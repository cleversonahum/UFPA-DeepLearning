{
 "cells": [
  {
   "cell_type": "markdown",
   "metadata": {},
   "source": [
    "# Reuters Classifier based on book \"Deep Learning with Python\", chapter 3.5"
   ]
  },
  {
   "cell_type": "code",
   "execution_count": 1,
   "metadata": {},
   "outputs": [
    {
     "name": "stdout",
     "output_type": "stream",
     "text": [
      "Requirement already satisfied: numpy==1.16.1 in /opt/conda/lib/python3.7/site-packages (1.16.1)\n",
      "Requirement already satisfied: tensorflow in /opt/conda/lib/python3.7/site-packages (1.14.0)\n",
      "Requirement already satisfied: keras in /opt/conda/lib/python3.7/site-packages (2.3.0)\n",
      "Requirement already satisfied: tensorflow-estimator<1.15.0rc0,>=1.14.0rc0 in /opt/conda/lib/python3.7/site-packages (from tensorflow) (1.14.0)\n",
      "Requirement already satisfied: termcolor>=1.1.0 in /opt/conda/lib/python3.7/site-packages (from tensorflow) (1.1.0)\n",
      "Requirement already satisfied: six>=1.10.0 in /opt/conda/lib/python3.7/site-packages (from tensorflow) (1.12.0)\n",
      "Requirement already satisfied: grpcio>=1.8.6 in /opt/conda/lib/python3.7/site-packages (from tensorflow) (1.23.0)\n",
      "Requirement already satisfied: tensorboard<1.15.0,>=1.14.0 in /opt/conda/lib/python3.7/site-packages (from tensorflow) (1.14.0)\n",
      "Requirement already satisfied: wheel>=0.26 in /opt/conda/lib/python3.7/site-packages (from tensorflow) (0.33.4)\n",
      "Requirement already satisfied: google-pasta>=0.1.6 in /opt/conda/lib/python3.7/site-packages (from tensorflow) (0.1.7)\n",
      "Requirement already satisfied: keras-preprocessing>=1.0.5 in /opt/conda/lib/python3.7/site-packages (from tensorflow) (1.1.0)\n",
      "Requirement already satisfied: astor>=0.6.0 in /opt/conda/lib/python3.7/site-packages (from tensorflow) (0.8.0)\n",
      "Requirement already satisfied: gast>=0.2.0 in /opt/conda/lib/python3.7/site-packages (from tensorflow) (0.3.2)\n",
      "Requirement already satisfied: keras-applications>=1.0.6 in /opt/conda/lib/python3.7/site-packages (from tensorflow) (1.0.8)\n",
      "Requirement already satisfied: protobuf>=3.6.1 in /opt/conda/lib/python3.7/site-packages (from tensorflow) (3.9.1)\n",
      "Requirement already satisfied: wrapt>=1.11.1 in /opt/conda/lib/python3.7/site-packages (from tensorflow) (1.11.2)\n",
      "Requirement already satisfied: absl-py>=0.7.0 in /opt/conda/lib/python3.7/site-packages (from tensorflow) (0.8.0)\n",
      "Requirement already satisfied: scipy>=0.14 in /opt/conda/lib/python3.7/site-packages (from keras) (1.3.1)\n",
      "Requirement already satisfied: pyyaml in /opt/conda/lib/python3.7/site-packages (from keras) (5.1.2)\n",
      "Requirement already satisfied: h5py in /opt/conda/lib/python3.7/site-packages (from keras) (2.9.0)\n",
      "Requirement already satisfied: werkzeug>=0.11.15 in /opt/conda/lib/python3.7/site-packages (from tensorboard<1.15.0,>=1.14.0->tensorflow) (0.16.0)\n",
      "Requirement already satisfied: setuptools>=41.0.0 in /opt/conda/lib/python3.7/site-packages (from tensorboard<1.15.0,>=1.14.0->tensorflow) (41.0.1)\n",
      "Requirement already satisfied: markdown>=2.6.8 in /opt/conda/lib/python3.7/site-packages (from tensorboard<1.15.0,>=1.14.0->tensorflow) (3.1.1)\n"
     ]
    }
   ],
   "source": [
    "!pip install numpy==1.16.1 tensorflow keras"
   ]
  },
  {
   "cell_type": "code",
   "execution_count": 2,
   "metadata": {},
   "outputs": [],
   "source": [
    "%matplotlib inline\n",
    "import numpy as np\n",
    "from tensorflow import keras\n",
    "from tensorflow.keras.datasets import reuters"
   ]
  },
  {
   "cell_type": "markdown",
   "metadata": {},
   "source": [
    "### Downloading Dataset"
   ]
  },
  {
   "cell_type": "code",
   "execution_count": 3,
   "metadata": {},
   "outputs": [
    {
     "name": "stdout",
     "output_type": "stream",
     "text": [
      "Train data:  8982  ,  8982 \n",
      "Test data:  2246  ,  2246\n"
     ]
    }
   ],
   "source": [
    "(train_data, train_labels), (test_data, test_labels) = reuters.load_data(num_words=10000)\n",
    "print(\"Train data: \", len(train_data), \" , \", len(train_labels), \"\\nTest data: \", len(test_data), \" , \", len(test_labels))"
   ]
  },
  {
   "cell_type": "markdown",
   "metadata": {},
   "source": [
    "### Decoding to text (example)"
   ]
  },
  {
   "cell_type": "code",
   "execution_count": 4,
   "metadata": {},
   "outputs": [
    {
     "name": "stdout",
     "output_type": "stream",
     "text": [
      "? ? ? said as a result of its december acquisition of space co it expects earnings per share in 1987 of 1 15 to 1 30 dlrs per share up from 70 cts in 1986 the company said pretax net should rise to nine to 10 mln dlrs from six mln dlrs in 1986 and rental operation revenues to 19 to 22 mln dlrs from 12 5 mln dlrs it said cash flow per share this year should be 2 50 to three dlrs reuter 3\n"
     ]
    }
   ],
   "source": [
    "word_index = reuters.get_word_index()\n",
    "reverse_word_index = dict([(value, key) for (key, value) in word_index.items()])\n",
    "# Note that our indices were offset by 3\n",
    "# because 0, 1 and 2 are reserved indices for \"padding\", \"start of sequence\", and \"unknown\".\n",
    "decoded_newswire = ' '.join([reverse_word_index.get(i - 3, '?') for i in train_data[0]])\n",
    "print(decoded_newswire)"
   ]
  },
  {
   "cell_type": "markdown",
   "metadata": {},
   "source": [
    "### Preparing the Data"
   ]
  },
  {
   "cell_type": "code",
   "execution_count": 5,
   "metadata": {},
   "outputs": [
    {
     "name": "stdout",
     "output_type": "stream",
     "text": [
      "[list([1, 2, 2, 8, 43, 10, 447, 5, 25, 207, 270, 5, 3095, 111, 16, 369, 186, 90, 67, 7, 89, 5, 19, 102, 6, 19, 124, 15, 90, 67, 84, 22, 482, 26, 7, 48, 4, 49, 8, 864, 39, 209, 154, 6, 151, 6, 83, 11, 15, 22, 155, 11, 15, 7, 48, 9, 4579, 1005, 504, 6, 258, 6, 272, 11, 15, 22, 134, 44, 11, 15, 16, 8, 197, 1245, 90, 67, 52, 29, 209, 30, 32, 132, 6, 109, 15, 17, 12])\n",
      " list([1, 3267, 699, 3434, 2295, 56, 2, 7511, 9, 56, 3906, 1073, 81, 5, 1198, 57, 366, 737, 132, 20, 4093, 7, 2, 49, 2295, 2, 1037, 3267, 699, 3434, 8, 7, 10, 241, 16, 855, 129, 231, 783, 5, 4, 587, 2295, 2, 2, 775, 7, 48, 34, 191, 44, 35, 1795, 505, 17, 12])\n",
      " list([1, 53, 12, 284, 15, 14, 272, 26, 53, 959, 32, 818, 15, 14, 272, 26, 39, 684, 70, 11, 14, 12, 3886, 18, 180, 183, 187, 70, 11, 14, 102, 32, 11, 29, 53, 44, 704, 15, 14, 19, 758, 15, 53, 959, 47, 1013, 15, 14, 19, 132, 15, 39, 965, 32, 11, 14, 147, 72, 11, 180, 183, 187, 44, 11, 14, 102, 19, 11, 123, 186, 90, 67, 960, 4, 78, 13, 68, 467, 511, 110, 59, 89, 90, 67, 1390, 55, 2678, 92, 617, 80, 1274, 46, 905, 220, 13, 4, 346, 48, 235, 629, 5, 211, 5, 1118, 7, 2, 81, 5, 187, 11, 15, 9, 1709, 201, 5, 47, 3615, 18, 478, 4514, 5, 1118, 7, 232, 2, 71, 5, 160, 63, 11, 9, 2, 81, 5, 102, 59, 11, 17, 12])\n",
      " ...\n",
      " list([1, 141, 3890, 387, 81, 8, 16, 1629, 10, 340, 1241, 850, 31, 56, 3890, 691, 9, 1241, 71, 9, 5985, 2, 2, 699, 2, 2, 2, 699, 244, 5945, 4, 49, 8, 4, 656, 850, 33, 2993, 9, 2139, 340, 3371, 1493, 9, 2, 22, 2, 1094, 687, 83, 35, 15, 257, 6, 57, 9190, 7, 4, 5956, 654, 5, 2, 6191, 1371, 4, 49, 8, 16, 369, 646, 6, 1076, 7, 124, 407, 17, 12])\n",
      " list([1, 53, 46, 957, 26, 14, 74, 132, 26, 39, 46, 258, 3614, 18, 14, 74, 134, 5131, 18, 88, 2321, 72, 11, 14, 1842, 32, 11, 123, 383, 89, 39, 46, 235, 10, 864, 728, 5, 258, 44, 11, 15, 22, 753, 9, 42, 92, 131, 728, 5, 69, 312, 11, 15, 22, 222, 2, 3237, 383, 48, 39, 74, 235, 10, 864, 276, 5, 61, 32, 11, 15, 21, 4, 211, 5, 126, 1072, 42, 92, 131, 46, 19, 352, 11, 15, 22, 710, 220, 9, 42, 92, 131, 276, 5, 59, 61, 11, 15, 22, 10, 455, 7, 1172, 137, 336, 1325, 6, 1532, 142, 971, 6463, 43, 359, 5, 4, 326, 753, 364, 17, 12])\n",
      " list([1, 227, 2406, 91, 2, 125, 2855, 21, 4, 3976, 76, 7, 4, 757, 481, 3976, 790, 5259, 5654, 9, 111, 149, 8, 7, 10, 76, 223, 51, 4, 417, 8, 1047, 91, 6917, 1688, 340, 7, 194, 9411, 6, 1894, 21, 127, 2151, 2394, 1456, 6, 3034, 4, 329, 433, 7, 65, 87, 1127, 10, 8219, 1475, 290, 9, 21, 567, 16, 1926, 24, 4, 76, 209, 30, 4033, 6655, 5654, 8, 4, 60, 8, 4, 966, 308, 40, 2575, 129, 2, 295, 277, 1071, 9, 24, 286, 2114, 234, 222, 9, 4, 906, 3994, 8519, 114, 5758, 1752, 7, 4, 113, 17, 12])] \n",
      "\n",
      "\n",
      "\n",
      "[[0. 1. 1. ... 0. 0. 0.]\n",
      " [0. 1. 1. ... 0. 0. 0.]\n",
      " [0. 1. 1. ... 0. 0. 0.]\n",
      " ...\n",
      " [0. 1. 1. ... 0. 0. 0.]\n",
      " [0. 1. 1. ... 0. 0. 0.]\n",
      " [0. 1. 1. ... 0. 0. 0.]] \n",
      " (8982, 10000)\n"
     ]
    }
   ],
   "source": [
    "print(train_data,\"\\n\\n\\n\")\n",
    "def vectorize_sequences(sequences, dimension=10000):\n",
    "    results = np.zeros((len(sequences), dimension))\n",
    "    for i, sequence in enumerate(sequences):\n",
    "        results[i, sequence] = 1.\n",
    "    return results\n",
    "\n",
    "# Our vectorized training data\n",
    "x_train = vectorize_sequences(train_data)\n",
    "# Our vectorized test data\n",
    "x_test = vectorize_sequences(test_data)\n",
    "print(x_train, \"\\n\", x_train.shape)"
   ]
  },
  {
   "cell_type": "markdown",
   "metadata": {},
   "source": [
    "### Converting to One-Hot"
   ]
  },
  {
   "cell_type": "code",
   "execution_count": 6,
   "metadata": {},
   "outputs": [
    {
     "name": "stderr",
     "output_type": "stream",
     "text": [
      "Using TensorFlow backend.\n"
     ]
    }
   ],
   "source": [
    "from keras.utils.np_utils import to_categorical\n",
    "\n",
    "one_hot_train_labels = to_categorical(train_labels)\n",
    "one_hot_test_labels = to_categorical(test_labels)"
   ]
  },
  {
   "cell_type": "markdown",
   "metadata": {},
   "source": [
    "### Validation Dataset"
   ]
  },
  {
   "cell_type": "code",
   "execution_count": 7,
   "metadata": {},
   "outputs": [],
   "source": [
    "x_val = x_train[:1000]\n",
    "partial_x_train = x_train[1000:]\n",
    "\n",
    "y_val = one_hot_train_labels[:1000]\n",
    "partial_y_train = one_hot_train_labels[1000:]"
   ]
  },
  {
   "cell_type": "markdown",
   "metadata": {},
   "source": [
    "### Network Architecture"
   ]
  },
  {
   "cell_type": "code",
   "execution_count": 8,
   "metadata": {},
   "outputs": [
    {
     "name": "stdout",
     "output_type": "stream",
     "text": [
      "WARNING:tensorflow:From /opt/conda/lib/python3.7/site-packages/tensorflow/python/ops/init_ops.py:1251: calling VarianceScaling.__init__ (from tensorflow.python.ops.init_ops) with dtype is deprecated and will be removed in a future version.\n",
      "Instructions for updating:\n",
      "Call initializer instance with the dtype argument instead of passing it to the constructor\n",
      "Model: \"sequential\"\n",
      "_________________________________________________________________\n",
      "Layer (type)                 Output Shape              Param #   \n",
      "=================================================================\n",
      "dense (Dense)                (None, 64)                640064    \n",
      "_________________________________________________________________\n",
      "dense_1 (Dense)              (None, 64)                4160      \n",
      "_________________________________________________________________\n",
      "dense_2 (Dense)              (None, 46)                2990      \n",
      "=================================================================\n",
      "Total params: 647,214\n",
      "Trainable params: 647,214\n",
      "Non-trainable params: 0\n",
      "_________________________________________________________________\n"
     ]
    }
   ],
   "source": [
    "model = keras.models.Sequential()\n",
    "model.add(keras.layers.Dense(64, activation='relu', input_shape=(10000,)))\n",
    "model.add(keras.layers.Dense(64, activation='relu'))\n",
    "model.add(keras.layers.Dense(46, activation='softmax'))\n",
    "\n",
    "model.compile(optimizer='rmsprop',\n",
    "              loss='categorical_crossentropy',\n",
    "              metrics=['accuracy'])\n",
    "model.summary()"
   ]
  },
  {
   "cell_type": "markdown",
   "metadata": {},
   "source": [
    "### Network Training"
   ]
  },
  {
   "cell_type": "code",
   "execution_count": 9,
   "metadata": {
    "scrolled": true
   },
   "outputs": [
    {
     "name": "stdout",
     "output_type": "stream",
     "text": [
      "Train on 7982 samples, validate on 1000 samples\n",
      "Epoch 1/20\n",
      "7982/7982 [==============================] - 1s 82us/sample - loss: 2.6491 - acc: 0.5385 - val_loss: 1.7293 - val_acc: 0.6350\n",
      "Epoch 2/20\n",
      "7982/7982 [==============================] - 0s 57us/sample - loss: 1.4209 - acc: 0.7021 - val_loss: 1.2946 - val_acc: 0.7210\n",
      "Epoch 3/20\n",
      "7982/7982 [==============================] - 0s 56us/sample - loss: 1.0495 - acc: 0.7774 - val_loss: 1.1182 - val_acc: 0.7570\n",
      "Epoch 4/20\n",
      "7982/7982 [==============================] - 0s 55us/sample - loss: 0.8252 - acc: 0.8311 - val_loss: 1.0418 - val_acc: 0.7730\n",
      "Epoch 5/20\n",
      "7982/7982 [==============================] - 0s 56us/sample - loss: 0.6559 - acc: 0.8657 - val_loss: 0.9524 - val_acc: 0.8040\n",
      "Epoch 6/20\n",
      "7982/7982 [==============================] - 0s 56us/sample - loss: 0.5224 - acc: 0.8906 - val_loss: 0.9186 - val_acc: 0.8130\n",
      "Epoch 7/20\n",
      "7982/7982 [==============================] - 0s 55us/sample - loss: 0.4211 - acc: 0.9127 - val_loss: 0.9070 - val_acc: 0.8010\n",
      "Epoch 8/20\n",
      "7982/7982 [==============================] - 0s 54us/sample - loss: 0.3432 - acc: 0.9268 - val_loss: 0.9132 - val_acc: 0.8170\n",
      "Epoch 9/20\n",
      "7982/7982 [==============================] - 0s 56us/sample - loss: 0.2810 - acc: 0.9394 - val_loss: 0.9261 - val_acc: 0.8180\n",
      "Epoch 10/20\n",
      "7982/7982 [==============================] - 0s 56us/sample - loss: 0.2382 - acc: 0.9460 - val_loss: 0.9270 - val_acc: 0.8190\n",
      "Epoch 11/20\n",
      "7982/7982 [==============================] - 0s 59us/sample - loss: 0.2100 - acc: 0.9483 - val_loss: 0.9057 - val_acc: 0.8150\n",
      "Epoch 12/20\n",
      "7982/7982 [==============================] - 0s 57us/sample - loss: 0.1794 - acc: 0.9533 - val_loss: 0.9486 - val_acc: 0.8160\n",
      "Epoch 13/20\n",
      "7982/7982 [==============================] - 0s 56us/sample - loss: 0.1624 - acc: 0.9544 - val_loss: 0.9719 - val_acc: 0.8050\n",
      "Epoch 14/20\n",
      "7982/7982 [==============================] - 0s 56us/sample - loss: 0.1490 - acc: 0.9551 - val_loss: 0.9927 - val_acc: 0.8160\n",
      "Epoch 15/20\n",
      "7982/7982 [==============================] - 0s 56us/sample - loss: 0.1417 - acc: 0.9550 - val_loss: 1.0034 - val_acc: 0.8080\n",
      "Epoch 16/20\n",
      "7982/7982 [==============================] - 0s 55us/sample - loss: 0.1337 - acc: 0.9555 - val_loss: 1.0649 - val_acc: 0.8080\n",
      "Epoch 17/20\n",
      "7982/7982 [==============================] - 0s 57us/sample - loss: 0.1254 - acc: 0.9567 - val_loss: 1.1004 - val_acc: 0.7970\n",
      "Epoch 18/20\n",
      "7982/7982 [==============================] - 0s 58us/sample - loss: 0.1261 - acc: 0.9558 - val_loss: 1.0849 - val_acc: 0.8060\n",
      "Epoch 19/20\n",
      "7982/7982 [==============================] - 0s 57us/sample - loss: 0.1157 - acc: 0.9572 - val_loss: 1.0804 - val_acc: 0.8040\n",
      "Epoch 20/20\n",
      "7982/7982 [==============================] - 0s 55us/sample - loss: 0.1155 - acc: 0.9573 - val_loss: 1.0980 - val_acc: 0.8040\n"
     ]
    }
   ],
   "source": [
    "history = model.fit(partial_x_train,\n",
    "                    partial_y_train,\n",
    "                    epochs=20,\n",
    "                    batch_size=512,\n",
    "                    validation_data=(x_val, y_val))"
   ]
  },
  {
   "cell_type": "markdown",
   "metadata": {},
   "source": [
    "### Network Evaluation"
   ]
  },
  {
   "cell_type": "code",
   "execution_count": 10,
   "metadata": {},
   "outputs": [
    {
     "name": "stdout",
     "output_type": "stream",
     "text": [
      "2246/2246 [==============================] - 0s 63us/sample - loss: 1.2290 - acc: 0.7827\n",
      "[1.2289533532313333, 0.78272486]\n"
     ]
    }
   ],
   "source": [
    "results = model.evaluate(x_test, one_hot_test_labels)\n",
    "print(results)"
   ]
  },
  {
   "cell_type": "markdown",
   "metadata": {},
   "source": [
    "### Plotting Training and Validation Loss"
   ]
  },
  {
   "cell_type": "code",
   "execution_count": 11,
   "metadata": {},
   "outputs": [
    {
     "data": {
      "image/png": "[encoded data removed]",
      "text/plain": [
       "<Figure size 432x288 with 1 Axes>"
      ]
     },
     "metadata": {
      "needs_background": "light"
     },
     "output_type": "display_data"
    }
   ],
   "source": [
    "import matplotlib.pyplot as plt\n",
    "\n",
    "loss = history.history['loss']\n",
    "val_loss = history.history['val_loss']\n",
    "epochs = range(1, len(loss) + 1)\n",
    "plt.plot(epochs, loss, 'bo', label='Training loss')\n",
    "plt.plot(epochs, val_loss, 'b', label='Validation loss')\n",
    "plt.title('Training and validation loss')\n",
    "plt.xlabel('Epochs')\n",
    "plt.ylabel('Loss')\n",
    "plt.legend()\n",
    "plt.show()"
   ]
  },
  {
   "cell_type": "markdown",
   "metadata": {},
   "source": [
    "### Plotting Training and Validation Accuracy"
   ]
  },
  {
   "cell_type": "code",
   "execution_count": 12,
   "metadata": {},
   "outputs": [
    {
     "data": {
      "image/png": "[encoded data removed]",
      "text/plain": [
       "<Figure size 432x288 with 1 Axes>"
      ]
     },
     "metadata": {
      "needs_background": "light"
     },
     "output_type": "display_data"
    }
   ],
   "source": [
    "plt.clf()   # clear figure\n",
    "\n",
    "acc = history.history['acc']\n",
    "val_acc = history.history['val_acc']\n",
    "plt.plot(epochs, acc, 'bo', label='Training acc')\n",
    "plt.plot(epochs, val_acc, 'b', label='Validation acc')\n",
    "plt.title('Training and validation accuracy')\n",
    "plt.xlabel('Epochs')\n",
    "plt.ylabel('Loss')\n",
    "plt.legend()\n",
    "plt.show()"
   ]
  },
  {
   "cell_type": "markdown",
   "metadata": {},
   "source": [
    "## First Alternative Network: using MSE as loss function instead of categorical cross-entropy"
   ]
  },
  {
   "cell_type": "markdown",
   "metadata": {},
   "source": [
    "### Network Architecture"
   ]
  },
  {
   "cell_type": "code",
   "execution_count": 13,
   "metadata": {},
   "outputs": [
    {
     "name": "stdout",
     "output_type": "stream",
     "text": [
      "Model: \"sequential_1\"\n",
      "_________________________________________________________________\n",
      "Layer (type)                 Output Shape              Param #   \n",
      "=================================================================\n",
      "dense_3 (Dense)              (None, 64)                640064    \n",
      "_________________________________________________________________\n",
      "dense_4 (Dense)              (None, 64)                4160      \n",
      "_________________________________________________________________\n",
      "dense_5 (Dense)              (None, 46)                2990      \n",
      "=================================================================\n",
      "Total params: 647,214\n",
      "Trainable params: 647,214\n",
      "Non-trainable params: 0\n",
      "_________________________________________________________________\n"
     ]
    }
   ],
   "source": [
    "model2 = keras.models.Sequential()\n",
    "model2.add(keras.layers.Dense(64, activation='relu', input_shape=(10000,)))\n",
    "model2.add(keras.layers.Dense(64, activation='relu'))\n",
    "model2.add(keras.layers.Dense(46, activation='softmax'))\n",
    "\n",
    "model2.compile(optimizer='rmsprop',\n",
    "              loss='mse',\n",
    "              metrics=['accuracy'])\n",
    "model2.summary()"
   ]
  },
  {
   "cell_type": "markdown",
   "metadata": {},
   "source": [
    "### Network Training"
   ]
  },
  {
   "cell_type": "code",
   "execution_count": 14,
   "metadata": {
    "scrolled": true
   },
   "outputs": [
    {
     "name": "stdout",
     "output_type": "stream",
     "text": [
      "Train on 7982 samples, validate on 1000 samples\n",
      "Epoch 1/20\n",
      "7982/7982 [==============================] - 0s 60us/sample - loss: 0.1076 - acc: 0.9575 - val_loss: 1.1516 - val_acc: 0.8000\n",
      "Epoch 2/20\n",
      "7982/7982 [==============================] - 0s 61us/sample - loss: 0.1084 - acc: 0.9564 - val_loss: 1.0994 - val_acc: 0.8020\n",
      "Epoch 3/20\n",
      "7982/7982 [==============================] - 1s 63us/sample - loss: 0.1042 - acc: 0.9575 - val_loss: 1.2109 - val_acc: 0.7950\n",
      "Epoch 4/20\n",
      "7982/7982 [==============================] - 0s 60us/sample - loss: 0.1066 - acc: 0.9578 - val_loss: 1.1199 - val_acc: 0.8070\n",
      "Epoch 5/20\n",
      "7982/7982 [==============================] - 0s 60us/sample - loss: 0.0990 - acc: 0.9590 - val_loss: 1.2474 - val_acc: 0.7870\n",
      "Epoch 6/20\n",
      "7982/7982 [==============================] - 0s 59us/sample - loss: 0.1009 - acc: 0.9579 - val_loss: 1.1983 - val_acc: 0.7950\n",
      "Epoch 7/20\n",
      "7982/7982 [==============================] - 0s 57us/sample - loss: 0.1013 - acc: 0.9563 - val_loss: 1.2178 - val_acc: 0.7930\n",
      "Epoch 8/20\n",
      "7982/7982 [==============================] - 0s 57us/sample - loss: 0.1017 - acc: 0.9588 - val_loss: 1.2511 - val_acc: 0.7890\n",
      "Epoch 9/20\n",
      "7982/7982 [==============================] - 0s 58us/sample - loss: 0.0975 - acc: 0.9578 - val_loss: 1.1940 - val_acc: 0.8000\n",
      "Epoch 10/20\n",
      "7982/7982 [==============================] - 0s 58us/sample - loss: 0.0989 - acc: 0.9573 - val_loss: 1.1972 - val_acc: 0.7990\n",
      "Epoch 11/20\n",
      "7982/7982 [==============================] - 0s 58us/sample - loss: 0.0964 - acc: 0.9572 - val_loss: 1.2043 - val_acc: 0.8040\n",
      "Epoch 12/20\n",
      "7982/7982 [==============================] - 0s 59us/sample - loss: 0.0946 - acc: 0.9589 - val_loss: 1.3091 - val_acc: 0.7880\n",
      "Epoch 13/20\n",
      "7982/7982 [==============================] - 0s 57us/sample - loss: 0.0946 - acc: 0.9595 - val_loss: 1.2529 - val_acc: 0.7950\n",
      "Epoch 14/20\n",
      "7982/7982 [==============================] - 0s 58us/sample - loss: 0.0919 - acc: 0.9588 - val_loss: 1.3018 - val_acc: 0.7860\n",
      "Epoch 15/20\n",
      "7982/7982 [==============================] - 0s 59us/sample - loss: 0.0919 - acc: 0.9602 - val_loss: 1.3014 - val_acc: 0.7950\n",
      "Epoch 16/20\n",
      "7982/7982 [==============================] - 0s 60us/sample - loss: 0.0930 - acc: 0.9577 - val_loss: 1.2484 - val_acc: 0.7970\n",
      "Epoch 17/20\n",
      "7982/7982 [==============================] - 0s 59us/sample - loss: 0.0877 - acc: 0.9589 - val_loss: 1.3291 - val_acc: 0.7910\n",
      "Epoch 18/20\n",
      "7982/7982 [==============================] - 0s 60us/sample - loss: 0.0913 - acc: 0.9574 - val_loss: 1.3257 - val_acc: 0.7890\n",
      "Epoch 19/20\n",
      "7982/7982 [==============================] - 1s 64us/sample - loss: 0.0871 - acc: 0.9589 - val_loss: 1.3986 - val_acc: 0.7740\n",
      "Epoch 20/20\n",
      "7982/7982 [==============================] - 0s 59us/sample - loss: 0.0887 - acc: 0.9587 - val_loss: 1.3130 - val_acc: 0.7940\n"
     ]
    }
   ],
   "source": [
    "history2 = model.fit(partial_x_train,\n",
    "                    partial_y_train,\n",
    "                    epochs=20,\n",
    "                    batch_size=512,\n",
    "                    validation_data=(x_val, y_val))"
   ]
  },
  {
   "cell_type": "markdown",
   "metadata": {},
   "source": [
    "### Network Evaluation"
   ]
  },
  {
   "cell_type": "code",
   "execution_count": 15,
   "metadata": {},
   "outputs": [
    {
     "name": "stdout",
     "output_type": "stream",
     "text": [
      "2246/2246 [==============================] - 0s 69us/sample - loss: 0.0213 - acc: 0.0227\n",
      "[0.021267225710427985, 0.022707034]\n"
     ]
    }
   ],
   "source": [
    "results2 = model2.evaluate(x_test, one_hot_test_labels)\n",
    "print(results2)"
   ]
  },
  {
   "cell_type": "markdown",
   "metadata": {},
   "source": [
    "### Plotting Training and Validation Loss"
   ]
  },
  {
   "cell_type": "code",
   "execution_count": 16,
   "metadata": {},
   "outputs": [
    {
     "data": {
      "image/png": "[encoded data removed]",
      "text/plain": [
       "<Figure size 432x288 with 1 Axes>"
      ]
     },
     "metadata": {
      "needs_background": "light"
     },
     "output_type": "display_data"
    }
   ],
   "source": [
    "import matplotlib.pyplot as plt\n",
    "\n",
    "loss2 = history2.history['loss']\n",
    "val_loss2 = history2.history['val_loss']\n",
    "epochs2 = range(1, len(loss2) + 1)\n",
    "plt.plot(epochs2, loss2, 'bo', label='Training loss')\n",
    "plt.plot(epochs2, val_loss2, 'b', label='Validation loss')\n",
    "plt.title('Training and validation loss')\n",
    "plt.xlabel('Epochs')\n",
    "plt.ylabel('Loss')\n",
    "plt.legend()\n",
    "plt.show()"
   ]
  },
  {
   "cell_type": "markdown",
   "metadata": {},
   "source": [
    "### Plotting training and Validation Accuracy"
   ]
  },
  {
   "cell_type": "code",
   "execution_count": 17,
   "metadata": {},
   "outputs": [
    {
     "data": {
      "image/png": "[encoded data removed]",
      "text/plain": [
       "<Figure size 432x288 with 1 Axes>"
      ]
     },
     "metadata": {
      "needs_background": "light"
     },
     "output_type": "display_data"
    }
   ],
   "source": [
    "plt.clf()   # clear figure\n",
    "\n",
    "acc2 = history2.history['acc']\n",
    "val_acc2 = history2.history['val_acc']\n",
    "plt.plot(epochs2, acc2, 'bo', label='Training acc')\n",
    "plt.plot(epochs2, val_acc2, 'b', label='Validation acc')\n",
    "plt.title('Training and validation accuracy')\n",
    "plt.xlabel('Epochs')\n",
    "plt.ylabel('Loss')\n",
    "plt.legend()\n",
    "plt.show()"
   ]
  },
  {
   "cell_type": "markdown",
   "metadata": {},
   "source": [
    "## Second Alternative Network: Using \"natural\" encoding, sigmoid activation in the output layer and binary cross-entropy loss instead of categorical"
   ]
  },
  {
   "cell_type": "markdown",
   "metadata": {},
   "source": [
    "### From one-hot representation to \"natural\" representation"
   ]
  },
  {
   "cell_type": "code",
   "execution_count": 18,
   "metadata": {},
   "outputs": [
    {
     "name": "stdout",
     "output_type": "stream",
     "text": [
      "(8982, 6) (2246, 6)\n"
     ]
    }
   ],
   "source": [
    "M = np.int(np.ceil(np.log2(np.max(train_labels)+1))) # Number of bits needed to represent all lables available\n",
    "train_labels_natural = np.zeros([train_labels.shape[0], M]) #Array which will contain binary representation\n",
    "test_labels_natural = np.zeros([test_labels.shape[0], M])\n",
    "print(train_labels_natural.shape, test_labels_natural.shape)"
   ]
  },
  {
   "cell_type": "code",
   "execution_count": 19,
   "metadata": {},
   "outputs": [
    {
     "name": "stdout",
     "output_type": "stream",
     "text": [
      "\n"
     ]
    }
   ],
   "source": [
    "# Train Labels\n",
    "for i in range(len(train_labels)):\n",
    "    a = np.array([np.int(x) for x in bin(train_labels[i])[2:]]) # transforming to binary representation\n",
    "    train_labels_natural[i,:] = np.pad(a,(6-len(a) if len(a)!=6 else 0 ,0),'constant',constant_values=(0)) # Filling values with zeros to complete 6 bits\n",
    "    \n",
    "# Test Labels\n",
    "for i in range(len(test_labels)):\n",
    "    a = np.array([np.int(x) for x in bin(test_labels[i])[2:]]) # transforming to binary representation\n",
    "    test_labels_natural[i,:] = np.pad(a,(6-len(a) if len(a)!=6 else 0 ,0),'constant',constant_values=(0)) # Filling values with zeros to complete 6 bits\n",
    "    \n",
    "print()"
   ]
  },
  {
   "cell_type": "code",
   "execution_count": 20,
   "metadata": {},
   "outputs": [],
   "source": [
    "y_val = train_labels_natural[:1000]\n",
    "partial_y_train = train_labels_natural[1000:]"
   ]
  },
  {
   "cell_type": "markdown",
   "metadata": {},
   "source": [
    "### Network Architecture"
   ]
  },
  {
   "cell_type": "code",
   "execution_count": 21,
   "metadata": {},
   "outputs": [
    {
     "name": "stdout",
     "output_type": "stream",
     "text": [
      "WARNING:tensorflow:From /opt/conda/lib/python3.7/site-packages/tensorflow/python/ops/nn_impl.py:180: add_dispatch_support.<locals>.wrapper (from tensorflow.python.ops.array_ops) is deprecated and will be removed in a future version.\n",
      "Instructions for updating:\n",
      "Use tf.where in 2.0, which has the same broadcast rule as np.where\n",
      "Model: \"sequential_2\"\n",
      "_________________________________________________________________\n",
      "Layer (type)                 Output Shape              Param #   \n",
      "=================================================================\n",
      "dense_6 (Dense)              (None, 64)                640064    \n",
      "_________________________________________________________________\n",
      "dense_7 (Dense)              (None, 64)                4160      \n",
      "_________________________________________________________________\n",
      "dense_8 (Dense)              (None, 6)                 390       \n",
      "=================================================================\n",
      "Total params: 644,614\n",
      "Trainable params: 644,614\n",
      "Non-trainable params: 0\n",
      "_________________________________________________________________\n"
     ]
    }
   ],
   "source": [
    "model3 = keras.models.Sequential()\n",
    "model3.add(keras.layers.Dense(64, activation='relu', input_shape=(10000,)))\n",
    "model3.add(keras.layers.Dense(64, activation='relu'))\n",
    "model3.add(keras.layers.Dense(6, activation='sigmoid'))\n",
    "\n",
    "model3.compile(optimizer='rmsprop',\n",
    "              loss='binary_crossentropy',\n",
    "              metrics=['accuracy'])\n",
    "model3.summary()"
   ]
  },
  {
   "cell_type": "markdown",
   "metadata": {},
   "source": [
    "### Network Training"
   ]
  },
  {
   "cell_type": "code",
   "execution_count": 22,
   "metadata": {},
   "outputs": [
    {
     "name": "stdout",
     "output_type": "stream",
     "text": [
      "Train on 7982 samples, validate on 1000 samples\n",
      "Epoch 1/20\n",
      "7982/7982 [==============================] - 1s 74us/sample - loss: 0.4826 - acc: 0.7996 - val_loss: 0.3656 - val_acc: 0.8607\n",
      "Epoch 2/20\n",
      "7982/7982 [==============================] - 0s 58us/sample - loss: 0.3110 - acc: 0.8812 - val_loss: 0.3041 - val_acc: 0.8785\n",
      "Epoch 3/20\n",
      "7982/7982 [==============================] - 0s 58us/sample - loss: 0.2431 - acc: 0.9117 - val_loss: 0.2801 - val_acc: 0.8878\n",
      "Epoch 4/20\n",
      "7982/7982 [==============================] - 0s 60us/sample - loss: 0.2033 - acc: 0.9287 - val_loss: 0.2724 - val_acc: 0.8902\n",
      "Epoch 5/20\n",
      "7982/7982 [==============================] - 0s 57us/sample - loss: 0.1696 - acc: 0.9454 - val_loss: 0.2635 - val_acc: 0.8962\n",
      "Epoch 6/20\n",
      "7982/7982 [==============================] - 0s 57us/sample - loss: 0.1487 - acc: 0.9532 - val_loss: 0.2641 - val_acc: 0.8980\n",
      "Epoch 7/20\n",
      "7982/7982 [==============================] - 0s 57us/sample - loss: 0.1285 - acc: 0.9619 - val_loss: 0.2665 - val_acc: 0.9005\n",
      "Epoch 8/20\n",
      "7982/7982 [==============================] - 0s 56us/sample - loss: 0.1111 - acc: 0.9678 - val_loss: 0.2747 - val_acc: 0.8962\n",
      "Epoch 9/20\n",
      "7982/7982 [==============================] - 0s 54us/sample - loss: 0.0961 - acc: 0.9713 - val_loss: 0.2806 - val_acc: 0.9013\n",
      "Epoch 10/20\n",
      "7982/7982 [==============================] - 0s 55us/sample - loss: 0.0883 - acc: 0.9731 - val_loss: 0.2850 - val_acc: 0.9022\n",
      "Epoch 11/20\n",
      "7982/7982 [==============================] - 0s 54us/sample - loss: 0.0757 - acc: 0.9767 - val_loss: 0.2991 - val_acc: 0.9022\n",
      "Epoch 12/20\n",
      "7982/7982 [==============================] - 0s 54us/sample - loss: 0.0699 - acc: 0.9773 - val_loss: 0.3373 - val_acc: 0.8952\n",
      "Epoch 13/20\n",
      "7982/7982 [==============================] - 0s 56us/sample - loss: 0.0641 - acc: 0.9787 - val_loss: 0.3266 - val_acc: 0.8978\n",
      "Epoch 14/20\n",
      "7982/7982 [==============================] - 0s 55us/sample - loss: 0.0607 - acc: 0.9788 - val_loss: 0.3283 - val_acc: 0.8977\n",
      "Epoch 15/20\n",
      "7982/7982 [==============================] - 0s 53us/sample - loss: 0.0544 - acc: 0.9802 - val_loss: 0.3513 - val_acc: 0.8985\n",
      "Epoch 16/20\n",
      "7982/7982 [==============================] - 0s 53us/sample - loss: 0.0523 - acc: 0.9803 - val_loss: 0.3470 - val_acc: 0.8965\n",
      "Epoch 17/20\n",
      "7982/7982 [==============================] - 0s 52us/sample - loss: 0.0496 - acc: 0.9797 - val_loss: 0.3632 - val_acc: 0.8975\n",
      "Epoch 18/20\n",
      "7982/7982 [==============================] - 0s 53us/sample - loss: 0.0454 - acc: 0.9806 - val_loss: 0.3727 - val_acc: 0.8963\n",
      "Epoch 19/20\n",
      "7982/7982 [==============================] - 0s 54us/sample - loss: 0.0471 - acc: 0.9806 - val_loss: 0.3852 - val_acc: 0.8957\n",
      "Epoch 20/20\n",
      "7982/7982 [==============================] - 0s 52us/sample - loss: 0.0435 - acc: 0.9812 - val_loss: 0.3924 - val_acc: 0.8972\n"
     ]
    }
   ],
   "source": [
    "history3 = model3.fit(partial_x_train,\n",
    "                    partial_y_train,\n",
    "                    epochs=20,\n",
    "                    batch_size=512,\n",
    "                    validation_data=(x_val, y_val))"
   ]
  },
  {
   "cell_type": "markdown",
   "metadata": {},
   "source": [
    "### Network Evaluation"
   ]
  },
  {
   "cell_type": "code",
   "execution_count": 23,
   "metadata": {},
   "outputs": [
    {
     "name": "stdout",
     "output_type": "stream",
     "text": [
      "2246/2246 [==============================] - 0s 60us/sample - loss: 0.4403 - acc: 0.8917\n",
      "[0.4403418853467634, 0.8916591]\n"
     ]
    }
   ],
   "source": [
    "results3 = model3.evaluate(x_test, test_labels_natural)\n",
    "print(results3)"
   ]
  },
  {
   "cell_type": "markdown",
   "metadata": {},
   "source": [
    "### Plotting Training and Validation Loss"
   ]
  },
  {
   "cell_type": "code",
   "execution_count": 24,
   "metadata": {},
   "outputs": [
    {
     "data": {
      "image/png": "[encoded data removed]",
      "text/plain": [
       "<Figure size 432x288 with 1 Axes>"
      ]
     },
     "metadata": {
      "needs_background": "light"
     },
     "output_type": "display_data"
    }
   ],
   "source": [
    "import matplotlib.pyplot as plt\n",
    "\n",
    "loss3 = history3.history['loss']\n",
    "val_loss3 = history3.history['val_loss']\n",
    "epochs3 = range(1, len(loss3) + 1)\n",
    "plt.plot(epochs3, loss3, 'bo', label='Training loss')\n",
    "plt.plot(epochs3, val_loss3, 'b', label='Validation loss')\n",
    "plt.title('Training and validation loss')\n",
    "plt.xlabel('Epochs')\n",
    "plt.ylabel('Loss')\n",
    "plt.legend()\n",
    "plt.show()"
   ]
  },
  {
   "cell_type": "markdown",
   "metadata": {},
   "source": [
    "### Plotting training and Validation Accuracy"
   ]
  },
  {
   "cell_type": "code",
   "execution_count": 25,
   "metadata": {},
   "outputs": [
    {
     "data": {
      "image/png": "[encoded data removed]",
      "text/plain": [
       "<Figure size 432x288 with 1 Axes>"
      ]
     },
     "metadata": {
      "needs_background": "light"
     },
     "output_type": "display_data"
    }
   ],
   "source": [
    "plt.clf()   # clear figure\n",
    "\n",
    "acc3 = history3.history['acc']\n",
    "val_acc3 = history3.history['val_acc']\n",
    "plt.plot(epochs3, acc3, 'bo', label='Training acc')\n",
    "plt.plot(epochs3, val_acc3, 'b', label='Validation acc')\n",
    "plt.title('Training and validation accuracy')\n",
    "plt.xlabel('Epochs')\n",
    "plt.ylabel('Loss')\n",
    "plt.legend()\n",
    "plt.show()"
   ]
  }
 ],
 "metadata": {
  "kernelspec": {
   "display_name": "Python 3",
   "language": "python",
   "name": "python3"
  },
  "language_info": {
   "codemirror_mode": {
    "name": "ipython",
    "version": 3
   },
   "file_extension": ".py",
   "mimetype": "text/x-python",
   "name": "python",
   "nbconvert_exporter": "python",
   "pygments_lexer": "ipython3",
   "version": "3.7.3"
  }
 },
 "nbformat": 4,
 "nbformat_minor": 4
}

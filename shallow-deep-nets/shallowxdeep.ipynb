{
 "cells": [
  {
   "cell_type": "markdown",
   "metadata": {},
   "source": [
    "#### Installing dependencies"
   ]
  },
  {
   "cell_type": "code",
   "execution_count": 1,
   "metadata": {},
   "outputs": [
    {
     "name": "stdout",
     "output_type": "stream",
     "text": [
      "Requirement already satisfied: numpy in /opt/conda/lib/python3.7/site-packages (1.17.0)\n",
      "Requirement already satisfied: torch in /opt/conda/lib/python3.7/site-packages (1.2.0)\n",
      "Requirement already satisfied: matplotlib in /opt/conda/lib/python3.7/site-packages (3.1.1)\n",
      "Requirement already satisfied: cycler>=0.10 in /opt/conda/lib/python3.7/site-packages (from matplotlib) (0.10.0)\n",
      "Requirement already satisfied: pyparsing!=2.0.4,!=2.1.2,!=2.1.6,>=2.0.1 in /opt/conda/lib/python3.7/site-packages (from matplotlib) (2.4.2)\n",
      "Requirement already satisfied: kiwisolver>=1.0.1 in /opt/conda/lib/python3.7/site-packages (from matplotlib) (1.1.0)\n",
      "Requirement already satisfied: python-dateutil>=2.1 in /opt/conda/lib/python3.7/site-packages (from matplotlib) (2.8.0)\n",
      "Requirement already satisfied: six in /opt/conda/lib/python3.7/site-packages (from cycler>=0.10->matplotlib) (1.12.0)\n",
      "Requirement already satisfied: setuptools in /opt/conda/lib/python3.7/site-packages (from kiwisolver>=1.0.1->matplotlib) (41.0.1)\n"
     ]
    }
   ],
   "source": [
    "!pip install numpy torch matplotlib"
   ]
  },
  {
   "cell_type": "markdown",
   "metadata": {},
   "source": [
    "#### Importing packages"
   ]
  },
  {
   "cell_type": "code",
   "execution_count": 2,
   "metadata": {},
   "outputs": [],
   "source": [
    "%matplotlib inline\n",
    "import numpy as np\n",
    "import torch\n",
    "import torch.utils.data as Data\n",
    "from torch.autograd import Variable\n",
    "import matplotlib.pyplot as plt\n",
    "from collections import OrderedDict\n",
    "from math import pi"
   ]
  },
  {
   "cell_type": "markdown",
   "metadata": {},
   "source": [
    "#### NN class for Regression"
   ]
  },
  {
   "cell_type": "code",
   "execution_count": 3,
   "metadata": {},
   "outputs": [],
   "source": [
    "class linearRegression(torch.nn.Module):\n",
    "    def __init__(self, inputSize, outputSize, nhiddenLayers, hiddenNeurons):\n",
    "        super(linearRegression, self).__init__()\n",
    "        layers = []\n",
    "\n",
    "        for i in range(0,nhiddenLayers): # adding hidden layers\n",
    "            if(i==0): #Input layer\n",
    "                layers.append(torch.nn.Linear(inputSize, hiddenNeurons))\n",
    "                layers.append(torch.nn.ReLU())\n",
    "            else:\n",
    "                layers.append(torch.nn.Linear(hiddenNeurons, hiddenNeurons))\n",
    "                layers.append(torch.nn.ReLU())\n",
    "\n",
    "        layers.append(torch.nn.Linear(hiddenNeurons, outputSize)) # output layer\n",
    "        self.model = torch.nn.Sequential(*layers)\n",
    "        print(self.model)\n",
    "\n",
    "    def forward(self, x):\n",
    "        out = self.model(x)\n",
    "        return out"
   ]
  },
  {
   "cell_type": "markdown",
   "metadata": {},
   "source": [
    "#### NN Parameters"
   ]
  },
  {
   "cell_type": "code",
   "execution_count": 4,
   "metadata": {},
   "outputs": [],
   "source": [
    "learningRate = 0.001\n",
    "momentum = 0.9 \n",
    "epochs = 2#2000\n",
    "batch_size = 3000\n",
    "train_set = 60000\n",
    "test_set = 6000"
   ]
  },
  {
   "cell_type": "markdown",
   "metadata": {},
   "source": [
    "#### Making the Dataset"
   ]
  },
  {
   "cell_type": "code",
   "execution_count": 5,
   "metadata": {},
   "outputs": [],
   "source": [
    "f1 = lambda x: 2 * (x ** 2) - 1\n",
    "func = lambda x: f1(f1(np.cos(x)))\n",
    "x = torch.unsqueeze(torch.linspace(-2 * pi, 2 * pi, train_set), dim=1)\n",
    "y = func(x)\n",
    "\n",
    "# Train Dataset, ,Making generator for batches\n",
    "train_dataset = Data.TensorDataset(x, y)\n",
    "train_loader = Data.DataLoader(dataset=train_dataset, batch_size=batch_size, shuffle=True)\n",
    "\n",
    "# Test Dataset\n",
    "test_ind = np.random.choice(train_set, 6000)\n",
    "test_x = x[test_ind]\n",
    "test_y = func(test_x)"
   ]
  },
  {
   "cell_type": "markdown",
   "metadata": {},
   "source": [
    "#### Defining Net, Criterion and Optimizer"
   ]
  },
  {
   "cell_type": "code",
   "execution_count": 6,
   "metadata": {},
   "outputs": [
    {
     "name": "stdout",
     "output_type": "stream",
     "text": [
      "Sequential(\n",
      "  (0): Linear(in_features=1, out_features=24, bias=True)\n",
      "  (1): ReLU()\n",
      "  (2): Linear(in_features=24, out_features=24, bias=True)\n",
      "  (3): ReLU()\n",
      "  (4): Linear(in_features=24, out_features=24, bias=True)\n",
      "  (5): ReLU()\n",
      "  (6): Linear(in_features=24, out_features=1, bias=True)\n",
      ")\n"
     ]
    }
   ],
   "source": [
    "net = linearRegression(1,1,3, 24)\n",
    "criterion = torch.nn.MSELoss() # Define criterion to evaluate the network\n",
    "optimizer = torch.optim.SGD(net.parameters(), lr=learningRate, momentum=momentum)"
   ]
  },
  {
   "cell_type": "markdown",
   "metadata": {},
   "source": [
    "#### Training the NN"
   ]
  },
  {
   "cell_type": "code",
   "execution_count": 7,
   "metadata": {},
   "outputs": [
    {
     "name": "stdout",
     "output_type": "stream",
     "text": [
      "Epoch:  0   Step:  0   Loss:  tensor(0.5000, grad_fn=<MseLossBackward>)\n",
      "Epoch:  0   Step:  1   Loss:  tensor(0.5078, grad_fn=<MseLossBackward>)\n",
      "Epoch:  0   Step:  2   Loss:  tensor(0.5089, grad_fn=<MseLossBackward>)\n",
      "Epoch:  0   Step:  3   Loss:  tensor(0.5055, grad_fn=<MseLossBackward>)\n",
      "Epoch:  0   Step:  4   Loss:  tensor(0.5060, grad_fn=<MseLossBackward>)\n",
      "Epoch:  0   Step:  5   Loss:  tensor(0.5234, grad_fn=<MseLossBackward>)\n",
      "Epoch:  0   Step:  6   Loss:  tensor(0.5070, grad_fn=<MseLossBackward>)\n",
      "Epoch:  0   Step:  7   Loss:  tensor(0.5054, grad_fn=<MseLossBackward>)\n",
      "Epoch:  0   Step:  8   Loss:  tensor(0.5146, grad_fn=<MseLossBackward>)\n",
      "Epoch:  0   Step:  9   Loss:  tensor(0.5210, grad_fn=<MseLossBackward>)\n",
      "Epoch:  0   Step:  10   Loss:  tensor(0.5135, grad_fn=<MseLossBackward>)\n",
      "Epoch:  0   Step:  11   Loss:  tensor(0.5138, grad_fn=<MseLossBackward>)\n",
      "Epoch:  0   Step:  12   Loss:  tensor(0.5224, grad_fn=<MseLossBackward>)\n",
      "Epoch:  0   Step:  13   Loss:  tensor(0.5014, grad_fn=<MseLossBackward>)\n",
      "Epoch:  0   Step:  14   Loss:  tensor(0.5173, grad_fn=<MseLossBackward>)\n",
      "Epoch:  0   Step:  15   Loss:  tensor(0.5122, grad_fn=<MseLossBackward>)\n",
      "Epoch:  0   Step:  16   Loss:  tensor(0.5034, grad_fn=<MseLossBackward>)\n",
      "Epoch:  0   Step:  17   Loss:  tensor(0.5143, grad_fn=<MseLossBackward>)\n",
      "Epoch:  0   Step:  18   Loss:  tensor(0.5018, grad_fn=<MseLossBackward>)\n",
      "Epoch:  0   Step:  19   Loss:  tensor(0.5011, grad_fn=<MseLossBackward>)\n",
      "Epoch:  1   Step:  0   Loss:  tensor(0.5156, grad_fn=<MseLossBackward>)\n",
      "Epoch:  1   Step:  1   Loss:  tensor(0.5137, grad_fn=<MseLossBackward>)\n",
      "Epoch:  1   Step:  2   Loss:  tensor(0.5091, grad_fn=<MseLossBackward>)\n",
      "Epoch:  1   Step:  3   Loss:  tensor(0.5113, grad_fn=<MseLossBackward>)\n",
      "Epoch:  1   Step:  4   Loss:  tensor(0.5056, grad_fn=<MseLossBackward>)\n",
      "Epoch:  1   Step:  5   Loss:  tensor(0.5059, grad_fn=<MseLossBackward>)\n",
      "Epoch:  1   Step:  6   Loss:  tensor(0.5060, grad_fn=<MseLossBackward>)\n",
      "Epoch:  1   Step:  7   Loss:  tensor(0.4909, grad_fn=<MseLossBackward>)\n",
      "Epoch:  1   Step:  8   Loss:  tensor(0.5033, grad_fn=<MseLossBackward>)\n",
      "Epoch:  1   Step:  9   Loss:  tensor(0.5060, grad_fn=<MseLossBackward>)\n",
      "Epoch:  1   Step:  10   Loss:  tensor(0.5023, grad_fn=<MseLossBackward>)\n",
      "Epoch:  1   Step:  11   Loss:  tensor(0.5053, grad_fn=<MseLossBackward>)\n",
      "Epoch:  1   Step:  12   Loss:  tensor(0.5061, grad_fn=<MseLossBackward>)\n",
      "Epoch:  1   Step:  13   Loss:  tensor(0.5057, grad_fn=<MseLossBackward>)\n",
      "Epoch:  1   Step:  14   Loss:  tensor(0.5074, grad_fn=<MseLossBackward>)\n",
      "Epoch:  1   Step:  15   Loss:  tensor(0.5084, grad_fn=<MseLossBackward>)\n",
      "Epoch:  1   Step:  16   Loss:  tensor(0.5041, grad_fn=<MseLossBackward>)\n",
      "Epoch:  1   Step:  17   Loss:  tensor(0.5093, grad_fn=<MseLossBackward>)\n",
      "Epoch:  1   Step:  18   Loss:  tensor(0.4973, grad_fn=<MseLossBackward>)\n",
      "Epoch:  1   Step:  19   Loss:  tensor(0.4971, grad_fn=<MseLossBackward>)\n"
     ]
    }
   ],
   "source": [
    "for epoch in range(epochs): # Iteration in each epoch\n",
    "    for step, (t_x, t_y) in enumerate(train_loader): # Iterating in each batch\n",
    "        optimizer.zero_grad() # Removing buffer from previous epochs\n",
    "        outputs = net(t_x) # Output training into the model\n",
    "        loss = criterion(outputs, t_y) # Get loss for predicted outputs\n",
    "        print(\"Epoch: \", epoch,\"  Step: \", step,\"  Loss: \", loss)\n",
    "        loss.backward() # Propagate the loss\n",
    "        optimizer.step() # Update parameters"
   ]
  },
  {
   "cell_type": "markdown",
   "metadata": {},
   "source": [
    "#### Evaluating the model"
   ]
  },
  {
   "cell_type": "code",
   "execution_count": 9,
   "metadata": {},
   "outputs": [
    {
     "name": "stdout",
     "output_type": "stream",
     "text": [
      "Mean Test Error:  tensor(0.6376, grad_fn=<MeanBackward0>)\n"
     ]
    }
   ],
   "source": [
    "net = net.eval()\n",
    "test_outputs = net(test_x)\n",
    "mean_test_error = torch.mean(torch.abs(test_y-test_outputs))\n",
    "print(\"Mean Test Error: \", mean_test_error)"
   ]
  }
 ],
 "metadata": {
  "kernelspec": {
   "display_name": "Python 3",
   "language": "python",
   "name": "python3"
  },
  "language_info": {
   "codemirror_mode": {
    "name": "ipython",
    "version": 3
   },
   "file_extension": ".py",
   "mimetype": "text/x-python",
   "name": "python",
   "nbconvert_exporter": "python",
   "pygments_lexer": "ipython3",
   "version": "3.7.3"
  }
 },
 "nbformat": 4,
 "nbformat_minor": 4
}

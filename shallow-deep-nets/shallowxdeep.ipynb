{
 "cells": [
  {
   "cell_type": "markdown",
   "metadata": {},
   "source": [
    "#### Installing dependencies"
   ]
  },
  {
   "cell_type": "code",
   "execution_count": 1,
   "metadata": {},
   "outputs": [
    {
     "name": "stdout",
     "output_type": "stream",
     "text": [
      "Requirement already satisfied: numpy in /opt/conda/lib/python3.7/site-packages (1.17.0)\n",
      "Requirement already satisfied: torch in /opt/conda/lib/python3.7/site-packages (1.2.0)\n",
      "Requirement already satisfied: matplotlib in /opt/conda/lib/python3.7/site-packages (3.1.1)\n",
      "Requirement already satisfied: kiwisolver>=1.0.1 in /opt/conda/lib/python3.7/site-packages (from matplotlib) (1.1.0)\n",
      "Requirement already satisfied: cycler>=0.10 in /opt/conda/lib/python3.7/site-packages (from matplotlib) (0.10.0)\n",
      "Requirement already satisfied: python-dateutil>=2.1 in /opt/conda/lib/python3.7/site-packages (from matplotlib) (2.8.0)\n",
      "Requirement already satisfied: pyparsing!=2.0.4,!=2.1.2,!=2.1.6,>=2.0.1 in /opt/conda/lib/python3.7/site-packages (from matplotlib) (2.4.2)\n",
      "Requirement already satisfied: setuptools in /opt/conda/lib/python3.7/site-packages (from kiwisolver>=1.0.1->matplotlib) (41.0.1)\n",
      "Requirement already satisfied: six in /opt/conda/lib/python3.7/site-packages (from cycler>=0.10->matplotlib) (1.12.0)\n"
     ]
    }
   ],
   "source": [
    "!pip install numpy torch matplotlib"
   ]
  },
  {
   "cell_type": "markdown",
   "metadata": {},
   "source": [
    "#### Importing packages"
   ]
  },
  {
   "cell_type": "code",
   "execution_count": 2,
   "metadata": {},
   "outputs": [],
   "source": [
    "%matplotlib inline\n",
    "import numpy as np\n",
    "import torch\n",
    "import torch.utils.data as Data\n",
    "from torch.autograd import Variable\n",
    "import matplotlib.pyplot as plt\n",
    "from collections import OrderedDict\n",
    "from math import pi"
   ]
  },
  {
   "cell_type": "markdown",
   "metadata": {},
   "source": [
    "#### NN class for Regression"
   ]
  },
  {
   "cell_type": "code",
   "execution_count": 3,
   "metadata": {},
   "outputs": [],
   "source": [
    "class linearRegression(torch.nn.Module):\n",
    "    def __init__(self, inputSize, outputSize, nhiddenLayers, hiddenNeurons):\n",
    "        super(linearRegression, self).__init__()\n",
    "        layers = []\n",
    "\n",
    "        for i in range(0,nhiddenLayers): # adding hidden layers\n",
    "            if(i==0): #Input layer\n",
    "                layers.append(torch.nn.Linear(inputSize, hiddenNeurons))\n",
    "                layers.append(torch.nn.ReLU())\n",
    "            else:\n",
    "                layers.append(torch.nn.BatchNorm1d(hiddenNeurons))\n",
    "                layers.append(torch.nn.Linear(hiddenNeurons, hiddenNeurons))\n",
    "                layers.append(torch.nn.ReLU())\n",
    "\n",
    "        layers.append(torch.nn.Linear(hiddenNeurons, outputSize)) # output layer\n",
    "        self.model = torch.nn.Sequential(*layers)\n",
    "        #print(\"\\nNetwork Architecture: \\n\", self.model,\"\\n\")\n",
    "\n",
    "    def forward(self, x):\n",
    "        out = self.model(x)\n",
    "        return out"
   ]
  },
  {
   "cell_type": "markdown",
   "metadata": {},
   "source": [
    "#### NN Parameters"
   ]
  },
  {
   "cell_type": "code",
   "execution_count": 4,
   "metadata": {},
   "outputs": [],
   "source": [
    "learningRate = 0.001\n",
    "momentum = 0.9 \n",
    "epochs = 2000 # Original Value is 2000\n",
    "batch_size = 3000\n",
    "train_set = 60000\n",
    "test_set = 60000"
   ]
  },
  {
   "cell_type": "markdown",
   "metadata": {},
   "source": [
    "#### Making the Dataset"
   ]
  },
  {
   "cell_type": "code",
   "execution_count": 5,
   "metadata": {},
   "outputs": [],
   "source": [
    "f1 = lambda x: 2 * (x ** 2) - 1\n",
    "func = lambda x: f1(f1(np.cos(x)))\n",
    "x = torch.unsqueeze(torch.FloatTensor(train_set+test_set).uniform_(-2*pi, 2*pi), dim=1)\n",
    "y = func(x)\n",
    "\n",
    "# Train Dataset and making generator for mini-batches\n",
    "train_x = x[0:train_set]\n",
    "train_y = y[0:train_set]\n",
    "train_dataset = Data.TensorDataset(train_x, train_y)\n",
    "train_loader = Data.DataLoader(dataset=train_dataset, batch_size=batch_size, shuffle=True)\n",
    "\n",
    "# Test Dataset\n",
    "test_x = x[train_set:(train_set+test_set)]\n",
    "test_y = y[train_set:(train_set+test_set)]"
   ]
  },
  {
   "cell_type": "markdown",
   "metadata": {},
   "source": [
    "#### Function to obtain training and testing results for a specific network architecture"
   ]
  },
  {
   "cell_type": "code",
   "execution_count": 6,
   "metadata": {},
   "outputs": [],
   "source": [
    "def trainTestNet(arch:tuple, log:bool = False) -> torch.tensor:\n",
    "    \n",
    "    # Defining network architecture\n",
    "    net = linearRegression(1, 1, arch[0], arch[1]) # Defining network architecture where arch[1] corresponds to the layer number and arch[2] to the number of units in a hidden layer\n",
    "    criterion = torch.nn.MSELoss() # Define criterion to evaluate the network, in this case MSE\n",
    "    optimizer = torch.optim.SGD(net.parameters(), lr=learningRate, momentum=momentum) # optimizer used is SGD\n",
    "    parameters = sum(p.numel() for p in net.parameters()) # Number of parameter for this specific architecture\n",
    "    # Training the network\n",
    "    if(log):\n",
    "        print(\"Hidden Layers Quantity: \",arch[0],\",  Units per Layer: \",arch[1],\"\\n\")\n",
    "        print(\"Training Results: \")\n",
    "    for epoch in range(1,epochs+1): # Iteration in each epoch\n",
    "        for step, (t_x, t_y) in enumerate(train_loader): # Iterating in each mini-batch\n",
    "            optimizer.zero_grad() # Removing buffer from previous epochs\n",
    "            outputs = net(t_x) # Output training into the model\n",
    "            loss = criterion(outputs, t_y) # Get loss for predicted outputs\n",
    "            if((epoch%100==0) and step == train_set/batch_size-1): #Print Train results for each 100 epochs\n",
    "                if(log):\n",
    "                    print(\"Epoch: \", epoch,\"  Step: \", step,\"  Loss: \", loss)\n",
    "            loss.backward() # Propagate the loss\n",
    "            optimizer.step() # Update parameters\n",
    "            \n",
    "    # Evaluating the network using the test dataset\n",
    "    test_outputs = net(test_x) # Generating network outputs for test data\n",
    "    mean_test_error = torch.sqrt(criterion(test_outputs, test_y)) # Calculating RMSE over the predicted data\n",
    "    if(log):\n",
    "        print(\"\\n\\nEvaluation over test dataset:\")\n",
    "        print(\"Test Error (RMSE): \", mean_test_error, \"\\n\\n\\n\\n\")\n",
    "    \n",
    "    return (mean_test_error, parameters)"
   ]
  },
  {
   "cell_type": "markdown",
   "metadata": {},
   "source": [
    "#### Defining network architectures deployment"
   ]
  },
  {
   "cell_type": "code",
   "execution_count": 7,
   "metadata": {},
   "outputs": [],
   "source": [
    "net_archs = np.array([[1,24], [1,48], [1,72], [1,128], [1,256], [2, 12], [2,24], [2,36], [3,8], [3,16], [3,24]]) # The first value of a tuple corresponds to the number of hidden layers and the other value to number of units/layer\n",
    "times = 5 # Repeating each architecture result N times\n",
    "results = torch.zeros([len(net_archs), times])\n",
    "arch_parameters = torch.zeros([len(net_archs)])"
   ]
  },
  {
   "cell_type": "markdown",
   "metadata": {},
   "source": [
    "#### Running Experiments"
   ]
  },
  {
   "cell_type": "code",
   "execution_count": 8,
   "metadata": {},
   "outputs": [
    {
     "name": "stdout",
     "output_type": "stream",
     "text": [
      "Time:  0   Arch:  [ 1 24]\n",
      "Time:  0   Arch:  [ 1 48]\n",
      "Time:  0   Arch:  [ 1 72]\n",
      "Time:  0   Arch:  [  1 128]\n",
      "Time:  0   Arch:  [  1 256]\n",
      "Time:  0   Arch:  [ 2 12]\n",
      "Time:  0   Arch:  [ 2 24]\n",
      "Time:  0   Arch:  [ 2 36]\n",
      "Time:  0   Arch:  [3 8]\n",
      "Time:  0   Arch:  [ 3 16]\n",
      "Time:  0   Arch:  [ 3 24]\n",
      "Time:  1   Arch:  [ 1 24]\n",
      "Time:  1   Arch:  [ 1 48]\n",
      "Time:  1   Arch:  [ 1 72]\n",
      "Time:  1   Arch:  [  1 128]\n",
      "Time:  1   Arch:  [  1 256]\n",
      "Time:  1   Arch:  [ 2 12]\n",
      "Time:  1   Arch:  [ 2 24]\n",
      "Time:  1   Arch:  [ 2 36]\n",
      "Time:  1   Arch:  [3 8]\n",
      "Time:  1   Arch:  [ 3 16]\n",
      "Time:  1   Arch:  [ 3 24]\n",
      "Time:  2   Arch:  [ 1 24]\n",
      "Time:  2   Arch:  [ 1 48]\n",
      "Time:  2   Arch:  [ 1 72]\n",
      "Time:  2   Arch:  [  1 128]\n",
      "Time:  2   Arch:  [  1 256]\n",
      "Time:  2   Arch:  [ 2 12]\n",
      "Time:  2   Arch:  [ 2 24]\n",
      "Time:  2   Arch:  [ 2 36]\n",
      "Time:  2   Arch:  [3 8]\n",
      "Time:  2   Arch:  [ 3 16]\n",
      "Time:  2   Arch:  [ 3 24]\n",
      "Time:  3   Arch:  [ 1 24]\n",
      "Time:  3   Arch:  [ 1 48]\n",
      "Time:  3   Arch:  [ 1 72]\n",
      "Time:  3   Arch:  [  1 128]\n",
      "Time:  3   Arch:  [  1 256]\n",
      "Time:  3   Arch:  [ 2 12]\n",
      "Time:  3   Arch:  [ 2 24]\n",
      "Time:  3   Arch:  [ 2 36]\n",
      "Time:  3   Arch:  [3 8]\n",
      "Time:  3   Arch:  [ 3 16]\n",
      "Time:  3   Arch:  [ 3 24]\n",
      "Time:  4   Arch:  [ 1 24]\n",
      "Time:  4   Arch:  [ 1 48]\n",
      "Time:  4   Arch:  [ 1 72]\n",
      "Time:  4   Arch:  [  1 128]\n",
      "Time:  4   Arch:  [  1 256]\n",
      "Time:  4   Arch:  [ 2 12]\n",
      "Time:  4   Arch:  [ 2 24]\n",
      "Time:  4   Arch:  [ 2 36]\n",
      "Time:  4   Arch:  [3 8]\n",
      "Time:  4   Arch:  [ 3 16]\n",
      "Time:  4   Arch:  [ 3 24]\n"
     ]
    }
   ],
   "source": [
    "for t in range(times): # Repeating the process N times\n",
    "    for index, arch in enumerate(net_archs): # Iterating over all architectures\n",
    "        print(\"Time: \", t, \"  Arch: \", arch)\n",
    "        (results[index, t], arch_parameters[index]) = trainTestNet(arch)\n",
    "        "
   ]
  },
  {
   "cell_type": "markdown",
   "metadata": {},
   "source": [
    "#### Plotting Results"
   ]
  },
  {
   "cell_type": "code",
   "execution_count": 10,
   "metadata": {},
   "outputs": [
    {
     "data": {
      "image/png": "[encoded data removed]",
      "text/plain": [
       "<Figure size 432x288 with 1 Axes>"
      ]
     },
     "metadata": {
      "needs_background": "light"
     },
     "output_type": "display_data"
    }
   ],
   "source": [
    "# Test Error x Number of Units Graph\n",
    "plt.figure()\n",
    "layers_number = np.unique(net_archs[:,0])\n",
    "min_results = torch.min(results, 1)\n",
    "for i in range(len(layers_number)): plt.plot(layers_number[i]*net_archs[net_archs[:,0]==layers_number[i],1], min_results[0][net_archs[:,0]==layers_number[i]].detach().numpy(), label=\"{} Hidden Layers\".format(layers_number[i]))\n",
    "plt.title(\"Test Error x Number of Units\")\n",
    "plt.xlabel(\"Number of Units\")\n",
    "plt.ylabel(\"Test Error (RMSE)\")\n",
    "plt.legend()\n",
    "plt.xlim([20, 90])\n",
    "plt.show()"
   ]
  },
  {
   "cell_type": "code",
   "execution_count": 17,
   "metadata": {},
   "outputs": [
    {
     "name": "stdout",
     "output_type": "stream",
     "text": [
      "tensor([ 201.,  657., 1369.])\n"
     ]
    }
   ],
   "source": [
    "print(arch_parameters[net_archs[:,0]==layers_number[i]])"
   ]
  },
  {
   "cell_type": "code",
   "execution_count": 18,
   "metadata": {},
   "outputs": [
    {
     "data": {
      "image/png": "[encoded data removed]",
      "text/plain": [
       "<Figure size 432x288 with 1 Axes>"
      ]
     },
     "metadata": {
      "needs_background": "light"
     },
     "output_type": "display_data"
    }
   ],
   "source": [
    "# Test Error x Number of Parameters Graph\n",
    "plt.figure()\n",
    "layers_number = np.unique(net_archs[:,0])\n",
    "min_results = torch.min(results, 1)\n",
    "for i in range(len(layers_number)): plt.plot(arch_parameters[net_archs[:,0]==layers_number[i]], min_results[0][net_archs[:,0]==layers_number[i]].detach().numpy(), label=\"{} Hidden Layers\".format(layers_number[i]))\n",
    "plt.title(\"Test Error x Number of Units\")\n",
    "plt.xlabel(\"Number of Parameters\")\n",
    "plt.ylabel(\"Test Error (RMSE)\")\n",
    "plt.legend()\n",
    "plt.xlim([0, 900])\n",
    "plt.show()"
   ]
  }
 ],
 "metadata": {
  "kernelspec": {
   "display_name": "Python 3",
   "language": "python",
   "name": "python3"
  },
  "language_info": {
   "codemirror_mode": {
    "name": "ipython",
    "version": 3
   },
   "file_extension": ".py",
   "mimetype": "text/x-python",
   "name": "python",
   "nbconvert_exporter": "python",
   "pygments_lexer": "ipython3",
   "version": "3.7.3"
  }
 },
 "nbformat": 4,
 "nbformat_minor": 4
}

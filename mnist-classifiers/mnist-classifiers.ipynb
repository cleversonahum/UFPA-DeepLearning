{
 "cells": [
  {
   "cell_type": "markdown",
   "metadata": {},
   "source": [
    "# MNIST Classifiers using machine learning (without Neural Networks)"
   ]
  },
  {
   "cell_type": "code",
   "execution_count": 7,
   "metadata": {},
   "outputs": [
    {
     "name": "stdout",
     "output_type": "stream",
     "text": [
      "Requirement already satisfied: Pillow in /opt/conda/lib/python3.7/site-packages (6.1.0)\n",
      "Requirement already satisfied: scikit-learn in /opt/conda/lib/python3.7/site-packages (0.21.3)\n",
      "Requirement already satisfied: python-mnist in /opt/conda/lib/python3.7/site-packages (0.6)\n",
      "Requirement already satisfied: numpy>=1.11.0 in /opt/conda/lib/python3.7/site-packages (from scikit-learn) (1.17.1)\n",
      "Requirement already satisfied: scipy>=0.17.0 in /opt/conda/lib/python3.7/site-packages (from scikit-learn) (1.3.1)\n",
      "Requirement already satisfied: joblib>=0.11 in /opt/conda/lib/python3.7/site-packages (from scikit-learn) (0.13.2)\n",
      "File ‘./data/train-images-idx3-ubyte.gz’ already there; not retrieving.\n",
      "\n",
      "File ‘./data/train-labels-idx1-ubyte.gz’ already there; not retrieving.\n",
      "\n",
      "File ‘./data/t10k-images-idx3-ubyte.gz’ already there; not retrieving.\n",
      "\n",
      "File ‘./data/t10k-labels-idx1-ubyte.gz’ already there; not retrieving.\n",
      "\n"
     ]
    }
   ],
   "source": [
    "# Install python packages\n",
    "!pip install Pillow scikit-learn python-mnist\n",
    "\n",
    "# Downloading MNIST Dataset\n",
    "!mkdir -p data\n",
    "!wget -nc -P ./data http://yann.lecun.com/exdb/mnist/train-images-idx3-ubyte.gz\n",
    "!wget -nc -P ./data http://yann.lecun.com/exdb/mnist/train-labels-idx1-ubyte.gz\n",
    "!wget -nc -P ./data http://yann.lecun.com/exdb/mnist/t10k-images-idx3-ubyte.gz\n",
    "!wget -nc -P ./data http://yann.lecun.com/exdb/mnist/t10k-labels-idx1-ubyte.gz\n",
    "    \n",
    "# Extracting content\n",
    "!gunzip ./data/train-images-idx3-ubyte.gz ./data/train-labels-idx1-ubyte.gz ./data/t10k-images-idx3-ubyte.gz ./data/t10k-labels-idx1-ubyte.gz"
   ]
  },
  {
   "cell_type": "markdown",
   "metadata": {},
   "source": [
    "### Loading the Dataset"
   ]
  },
  {
   "cell_type": "code",
   "execution_count": 9,
   "metadata": {},
   "outputs": [
    {
     "name": "stdout",
     "output_type": "stream",
     "text": [
      "9\n"
     ]
    }
   ],
   "source": [
    "from mnist import MNIST\n",
    "from sklearn import datasets\n",
    "from PIL import Image, ImageDraw\n",
    "\n",
    "# Load dataset\n",
    "mndata = MNIST(\"./data/\")\n",
    "images, labels = mndata.load_training()\n",
    "\n",
    "# Pick the fifth image from the dataset (it's a 9)\n",
    "i = 4\n",
    "image, label = images[i], labels[i]\n",
    "\n",
    "# Print the image\n",
    "output = Image.new(\"L\", (28, 28))\n",
    "output.putdata(image)\n",
    "output.show()\n",
    "\n",
    "# Print label\n",
    "print(label)"
   ]
  },
  {
   "cell_type": "code",
   "execution_count": null,
   "metadata": {},
   "outputs": [],
   "source": []
  }
 ],
 "metadata": {
  "kernelspec": {
   "display_name": "Python 3",
   "language": "python",
   "name": "python3"
  },
  "language_info": {
   "codemirror_mode": {
    "name": "ipython",
    "version": 3
   },
   "file_extension": ".py",
   "mimetype": "text/x-python",
   "name": "python",
   "nbconvert_exporter": "python",
   "pygments_lexer": "ipython3",
   "version": "3.7.1"
  }
 },
 "nbformat": 4,
 "nbformat_minor": 2
}

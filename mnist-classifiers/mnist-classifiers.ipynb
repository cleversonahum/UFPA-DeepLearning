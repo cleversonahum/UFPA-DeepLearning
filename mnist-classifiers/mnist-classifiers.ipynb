{
 "cells": [
  {
   "cell_type": "markdown",
   "metadata": {},
   "source": [
    "# MNIST Classifiers using machine learning (without Neural Networks)"
   ]
  },
  {
   "cell_type": "code",
   "execution_count": 1,
   "metadata": {},
   "outputs": [
    {
     "name": "stdout",
     "output_type": "stream",
     "text": [
      "Requirement already satisfied: Pillow in /opt/conda/lib/python3.7/site-packages (6.1.0)\n",
      "Requirement already satisfied: scikit-learn in /opt/conda/lib/python3.7/site-packages (0.21.3)\n",
      "Requirement already satisfied: python-mnist in /opt/conda/lib/python3.7/site-packages (0.6)\n",
      "Requirement already satisfied: matplotlib in /opt/conda/lib/python3.7/site-packages (3.1.1)\n",
      "Requirement already satisfied: numpy in /opt/conda/lib/python3.7/site-packages (1.17.0)\n",
      "Requirement already satisfied: joblib>=0.11 in /opt/conda/lib/python3.7/site-packages (from scikit-learn) (0.13.2)\n",
      "Requirement already satisfied: scipy>=0.17.0 in /opt/conda/lib/python3.7/site-packages (from scikit-learn) (1.3.1)\n",
      "Requirement already satisfied: kiwisolver>=1.0.1 in /opt/conda/lib/python3.7/site-packages (from matplotlib) (1.1.0)\n",
      "Requirement already satisfied: pyparsing!=2.0.4,!=2.1.2,!=2.1.6,>=2.0.1 in /opt/conda/lib/python3.7/site-packages (from matplotlib) (2.4.2)\n",
      "Requirement already satisfied: cycler>=0.10 in /opt/conda/lib/python3.7/site-packages (from matplotlib) (0.10.0)\n",
      "Requirement already satisfied: python-dateutil>=2.1 in /opt/conda/lib/python3.7/site-packages (from matplotlib) (2.8.0)\n",
      "Requirement already satisfied: setuptools in /opt/conda/lib/python3.7/site-packages (from kiwisolver>=1.0.1->matplotlib) (41.0.1)\n",
      "Requirement already satisfied: six in /opt/conda/lib/python3.7/site-packages (from cycler>=0.10->matplotlib) (1.12.0)\n",
      "File ‘./data/train-images-idx3-ubyte.gz’ already there; not retrieving.\n",
      "\n",
      "File ‘./data/train-labels-idx1-ubyte.gz’ already there; not retrieving.\n",
      "\n",
      "File ‘./data/t10k-images-idx3-ubyte.gz’ already there; not retrieving.\n",
      "\n",
      "File ‘./data/t10k-labels-idx1-ubyte.gz’ already there; not retrieving.\n",
      "\n",
      "gzip: ./data/train-images-idx3-ubyte already exists;\tnot overwritten\n",
      "gzip: ./data/train-labels-idx1-ubyte already exists;\tnot overwritten\n",
      "gzip: ./data/t10k-images-idx3-ubyte already exists;\tnot overwritten\n",
      "gzip: ./data/t10k-labels-idx1-ubyte already exists;\tnot overwritten\n",
      "yes: standard output: Broken pipe\n"
     ]
    }
   ],
   "source": [
    "# Install python packages\n",
    "!pip install Pillow scikit-learn python-mnist matplotlib numpy\n",
    "\n",
    "# Downloading MNIST Dataset\n",
    "!mkdir -p data\n",
    "!wget -nc -P ./data http://yann.lecun.com/exdb/mnist/train-images-idx3-ubyte.gz\n",
    "!wget -nc -P ./data http://yann.lecun.com/exdb/mnist/train-labels-idx1-ubyte.gz\n",
    "!wget -nc -P ./data http://yann.lecun.com/exdb/mnist/t10k-images-idx3-ubyte.gz\n",
    "!wget -nc -P ./data http://yann.lecun.com/exdb/mnist/t10k-labels-idx1-ubyte.gz\n",
    "    \n",
    "# Extracting content\n",
    "!yes n | gunzip ./data/train-images-idx3-ubyte.gz ./data/train-labels-idx1-ubyte.gz ./data/t10k-images-idx3-ubyte.gz ./data/t10k-labels-idx1-ubyte.gz"
   ]
  },
  {
   "cell_type": "markdown",
   "metadata": {},
   "source": [
    "### Loading the Dataset"
   ]
  },
  {
   "cell_type": "code",
   "execution_count": 2,
   "metadata": {},
   "outputs": [
    {
     "name": "stdout",
     "output_type": "stream",
     "text": [
      "Label:  9\n"
     ]
    },
    {
     "data": {
      "image/png": "[encoded data removed]",
      "text/plain": [
       "<Figure size 432x288 with 1 Axes>"
      ]
     },
     "metadata": {
      "needs_background": "light"
     },
     "output_type": "display_data"
    }
   ],
   "source": [
    "%matplotlib inline\n",
    "from mnist import MNIST\n",
    "from sklearn import datasets\n",
    "from PIL import Image, ImageDraw\n",
    "from matplotlib.pyplot import imshow\n",
    "import numpy as np\n",
    "from sklearn.metrics import accuracy_score, classification_report, confusion_matrix\n",
    "\n",
    "# Load dataset\n",
    "mndata = MNIST(\"./data/\")\n",
    "images, labels = mndata.load_training()\n",
    "\n",
    "# Pick the fifth image from the dataset (it's a 9)\n",
    "image, label = images[4], labels[4]\n",
    "\n",
    "# Print the image\n",
    "output = Image.new(\"L\", (28, 28))\n",
    "output.putdata(image)\n",
    "imshow(np.asarray(output))\n",
    "print(\"Label: \",label) # Print label"
   ]
  },
  {
   "cell_type": "markdown",
   "metadata": {},
   "source": [
    "### Splitting the dataset"
   ]
  },
  {
   "cell_type": "code",
   "execution_count": 3,
   "metadata": {},
   "outputs": [
    {
     "name": "stdout",
     "output_type": "stream",
     "text": [
      "Train:  12000   Test:  3000\n"
     ]
    }
   ],
   "source": [
    "from sklearn.model_selection import train_test_split\n",
    "train_x, test_x, train_y, expected = train_test_split(images, labels, train_size=0.20, test_size=0.05) # 20% for the test dataset\n",
    "print(\"Train: \",len(train_y), \"  Test: \", len(expected))"
   ]
  },
  {
   "cell_type": "markdown",
   "metadata": {},
   "source": [
    "## K-Nearest Neighbors"
   ]
  },
  {
   "cell_type": "code",
   "execution_count": 4,
   "metadata": {},
   "outputs": [
    {
     "name": "stdout",
     "output_type": "stream",
     "text": [
      "Accuracy:  0.945\n",
      "\n",
      "Confusion Matrix:\n",
      " [[295   0   0   0   0   0   0   0   0   1]\n",
      " [  0 352   2   1   0   0   0   0   0   0]\n",
      " [  3  10 283   2   1   0   1  10   1   1]\n",
      " [  0   2   3 281   2   9   1   1   1   1]\n",
      " [  0   4   0   0 263   0   1   0   0  12]\n",
      " [  1   2   1   8   2 248   2   0   2   4]\n",
      " [  2   1   1   0   0   1 284   0   0   0]\n",
      " [  0   6   0   0   4   0   0 284   0   2]\n",
      " [  4   5   1   8   1   6   2   4 274   7]\n",
      " [  0   3   1   1   4   1   0   8   0 271]]\n",
      "\n",
      "Classification Report:\n",
      "               precision    recall  f1-score   support\n",
      "\n",
      "           0       0.97      1.00      0.98       296\n",
      "           1       0.91      0.99      0.95       355\n",
      "           2       0.97      0.91      0.94       312\n",
      "           3       0.93      0.93      0.93       301\n",
      "           4       0.95      0.94      0.94       280\n",
      "           5       0.94      0.92      0.93       270\n",
      "           6       0.98      0.98      0.98       289\n",
      "           7       0.93      0.96      0.94       296\n",
      "           8       0.99      0.88      0.93       312\n",
      "           9       0.91      0.94      0.92       289\n",
      "\n",
      "    accuracy                           0.94      3000\n",
      "   macro avg       0.95      0.94      0.94      3000\n",
      "weighted avg       0.95      0.94      0.94      3000\n",
      "\n"
     ]
    }
   ],
   "source": [
    "from sklearn.neighbors import KNeighborsClassifier\n",
    "\n",
    "clf = KNeighborsClassifier()\n",
    "clf.fit(train_x, train_y)\n",
    "predicted = clf.predict(test_x)\n",
    "\n",
    "print(\"Accuracy: \", accuracy_score(expected, predicted))\n",
    "print(\"\\nConfusion Matrix:\\n\",confusion_matrix(expected, predicted))\n",
    "print(\"\\nClassification Report:\\n\",classification_report(expected, predicted))"
   ]
  },
  {
   "cell_type": "markdown",
   "metadata": {},
   "source": [
    "## Decision Tree"
   ]
  },
  {
   "cell_type": "code",
   "execution_count": 5,
   "metadata": {},
   "outputs": [
    {
     "name": "stdout",
     "output_type": "stream",
     "text": [
      "Accuracy:  0.82\n",
      "\n",
      "Confusion Matrix:\n",
      " [[265   0   2   5   4  11   3   1   3   2]\n",
      " [  0 336   4   3   0   4   1   1   5   1]\n",
      " [  0   4 240  15   5   7  13   5  13  10]\n",
      " [  3   2  11 235   3  18   4   7   9   9]\n",
      " [  2   1   5   6 222   7   9   4   5  19]\n",
      " [  6   0   1  13  10 203  10   6  13   8]\n",
      " [  3   2   3   4   3   8 256   0   7   3]\n",
      " [  0   4   6   6   6   3   3 252   3  13]\n",
      " [  9   5  11  15  15  14   5  10 213  15]\n",
      " [  3   2   3   7  14   6   2   8   6 238]]\n",
      "\n",
      "Classification Report:\n",
      "               precision    recall  f1-score   support\n",
      "\n",
      "           0       0.91      0.90      0.90       296\n",
      "           1       0.94      0.95      0.95       355\n",
      "           2       0.84      0.77      0.80       312\n",
      "           3       0.76      0.78      0.77       301\n",
      "           4       0.79      0.79      0.79       280\n",
      "           5       0.72      0.75      0.74       270\n",
      "           6       0.84      0.89      0.86       289\n",
      "           7       0.86      0.85      0.85       296\n",
      "           8       0.77      0.68      0.72       312\n",
      "           9       0.75      0.82      0.78       289\n",
      "\n",
      "    accuracy                           0.82      3000\n",
      "   macro avg       0.82      0.82      0.82      3000\n",
      "weighted avg       0.82      0.82      0.82      3000\n",
      "\n"
     ]
    }
   ],
   "source": [
    "from sklearn.tree import DecisionTreeClassifier\n",
    "\n",
    "clf = DecisionTreeClassifier()\n",
    "clf.fit(train_x, train_y)\n",
    "predicted = clf.predict(test_x)\n",
    "\n",
    "print(\"Accuracy: \", accuracy_score(expected, predicted))\n",
    "print(\"\\nConfusion Matrix:\\n\",confusion_matrix(expected, predicted))\n",
    "print(\"\\nClassification Report:\\n\",classification_report(expected, predicted))"
   ]
  },
  {
   "cell_type": "markdown",
   "metadata": {},
   "source": [
    "## Random Forest"
   ]
  },
  {
   "cell_type": "code",
   "execution_count": 6,
   "metadata": {},
   "outputs": [
    {
     "name": "stdout",
     "output_type": "stream",
     "text": [
      "Accuracy:  0.943\n",
      "\n",
      "Confusion Matrix:\n",
      " [[293   0   0   0   0   0   0   0   2   1]\n",
      " [  0 349   4   0   1   0   0   1   0   0]\n",
      " [  0   1 289   2   6   0   5   2   5   2]\n",
      " [  1   1   6 277   0   6   1   4   5   0]\n",
      " [  1   0   0   0 263   0   1   1   2  12]\n",
      " [  4   0   0   6   1 255   1   0   1   2]\n",
      " [  2   1   0   0   0   4 281   0   1   0]\n",
      " [  1   5   5   0   4   1   0 274   1   5]\n",
      " [  2   3   2   5   2   3   3   1 282   9]\n",
      " [  0   3   1   1   9   1   0   6   2 266]]\n",
      "\n",
      "Classification Report:\n",
      "               precision    recall  f1-score   support\n",
      "\n",
      "           0       0.96      0.99      0.98       296\n",
      "           1       0.96      0.98      0.97       355\n",
      "           2       0.94      0.93      0.93       312\n",
      "           3       0.95      0.92      0.94       301\n",
      "           4       0.92      0.94      0.93       280\n",
      "           5       0.94      0.94      0.94       270\n",
      "           6       0.96      0.97      0.97       289\n",
      "           7       0.95      0.93      0.94       296\n",
      "           8       0.94      0.90      0.92       312\n",
      "           9       0.90      0.92      0.91       289\n",
      "\n",
      "    accuracy                           0.94      3000\n",
      "   macro avg       0.94      0.94      0.94      3000\n",
      "weighted avg       0.94      0.94      0.94      3000\n",
      "\n"
     ]
    }
   ],
   "source": [
    "from sklearn.ensemble import RandomForestClassifier\n",
    "\n",
    "clf = RandomForestClassifier(n_estimators=100)\n",
    "clf.fit(train_x, train_y)\n",
    "predicted = clf.predict(test_x)\n",
    "\n",
    "print(\"Accuracy: \", accuracy_score(expected, predicted))\n",
    "print(\"\\nConfusion Matrix:\\n\",confusion_matrix(expected, predicted))\n",
    "print(\"\\nClassification Report:\\n\",classification_report(expected, predicted))"
   ]
  },
  {
   "cell_type": "markdown",
   "metadata": {},
   "source": [
    "## SVM - Linear SVC"
   ]
  },
  {
   "cell_type": "code",
   "execution_count": 7,
   "metadata": {},
   "outputs": [
    {
     "name": "stdout",
     "output_type": "stream",
     "text": [
      "Accuracy:  0.9046666666666666\n",
      "\n",
      "Confusion Matrix:\n",
      " [[290   0   2   0   0   3   1   0   0   0]\n",
      " [  0 345   3   1   1   0   0   1   4   0]\n",
      " [  1   6 272   6  10   2   3   3   8   1]\n",
      " [  2   5   9 267   0  11   0   0   5   2]\n",
      " [  1   0   2   0 254   0   0   1   1  21]\n",
      " [  4   1   3  15   1 240   2   0   3   1]\n",
      " [  0   2   6   0   2   4 274   0   1   0]\n",
      " [  0   4   8   1   4   0   0 269   1   9]\n",
      " [  5   8   9  27   1   6   4   2 242   8]\n",
      " [  0   3   3   0  10   0   0  12   0 261]]\n",
      "\n",
      "Classification Report:\n",
      "               precision    recall  f1-score   support\n",
      "\n",
      "           0       0.96      0.98      0.97       296\n",
      "           1       0.92      0.97      0.95       355\n",
      "           2       0.86      0.87      0.86       312\n",
      "           3       0.84      0.89      0.86       301\n",
      "           4       0.90      0.91      0.90       280\n",
      "           5       0.90      0.89      0.90       270\n",
      "           6       0.96      0.95      0.96       289\n",
      "           7       0.93      0.91      0.92       296\n",
      "           8       0.91      0.78      0.84       312\n",
      "           9       0.86      0.90      0.88       289\n",
      "\n",
      "    accuracy                           0.90      3000\n",
      "   macro avg       0.91      0.90      0.90      3000\n",
      "weighted avg       0.91      0.90      0.90      3000\n",
      "\n"
     ]
    }
   ],
   "source": [
    "from sklearn.svm import SVC\n",
    "\n",
    "clf = SVC(kernel='linear')\n",
    "clf.fit(train_x, train_y)\n",
    "predicted = clf.predict(test_x)\n",
    "\n",
    "print(\"Accuracy: \", accuracy_score(expected, predicted))\n",
    "print(\"\\nConfusion Matrix:\\n\",confusion_matrix(expected, predicted))\n",
    "print(\"\\nClassification Report:\\n\",classification_report(expected, predicted))"
   ]
  },
  {
   "cell_type": "markdown",
   "metadata": {},
   "source": [
    "## SVM - Polynomial"
   ]
  },
  {
   "cell_type": "code",
   "execution_count": 8,
   "metadata": {},
   "outputs": [
    {
     "name": "stderr",
     "output_type": "stream",
     "text": [
      "/opt/conda/lib/python3.7/site-packages/sklearn/svm/base.py:193: FutureWarning: The default value of gamma will change from 'auto' to 'scale' in version 0.22 to account better for unscaled features. Set gamma explicitly to 'auto' or 'scale' to avoid this warning.\n",
      "  \"avoid this warning.\", FutureWarning)\n"
     ]
    },
    {
     "name": "stdout",
     "output_type": "stream",
     "text": [
      "Accuracy:  0.952\n",
      "\n",
      "Confusion Matrix:\n",
      " [[293   0   2   0   0   0   0   0   0   1]\n",
      " [  0 350   2   1   1   0   0   1   0   0]\n",
      " [  1   4 288   2   4   0   2   5   4   2]\n",
      " [  2   2   5 282   0   4   0   0   5   1]\n",
      " [  1   1   2   0 268   0   0   1   0   7]\n",
      " [  1   2   0   3   1 255   1   0   2   5]\n",
      " [  2   1   1   0   1   2 281   0   1   0]\n",
      " [  1   4   2   1   3   1   0 282   0   2]\n",
      " [  3   2   2   7   1   1   4   1 283   8]\n",
      " [  0   2   1   0   8   0   0   4   0 274]]\n",
      "\n",
      "Classification Report:\n",
      "               precision    recall  f1-score   support\n",
      "\n",
      "           0       0.96      0.99      0.98       296\n",
      "           1       0.95      0.99      0.97       355\n",
      "           2       0.94      0.92      0.93       312\n",
      "           3       0.95      0.94      0.94       301\n",
      "           4       0.93      0.96      0.95       280\n",
      "           5       0.97      0.94      0.96       270\n",
      "           6       0.98      0.97      0.97       289\n",
      "           7       0.96      0.95      0.96       296\n",
      "           8       0.96      0.91      0.93       312\n",
      "           9       0.91      0.95      0.93       289\n",
      "\n",
      "    accuracy                           0.95      3000\n",
      "   macro avg       0.95      0.95      0.95      3000\n",
      "weighted avg       0.95      0.95      0.95      3000\n",
      "\n"
     ]
    }
   ],
   "source": [
    "clf = SVC(kernel='poly')\n",
    "clf.fit(train_x, train_y)\n",
    "predicted = clf.predict(test_x)\n",
    "\n",
    "print(\"Accuracy: \", accuracy_score(expected, predicted))\n",
    "print(\"\\nConfusion Matrix:\\n\",confusion_matrix(expected, predicted))\n",
    "print(\"\\nClassification Report:\\n\",classification_report(expected, predicted))"
   ]
  },
  {
   "cell_type": "markdown",
   "metadata": {},
   "source": [
    "## SVM - Radial Basis Function (RBF)"
   ]
  },
  {
   "cell_type": "code",
   "execution_count": 9,
   "metadata": {},
   "outputs": [
    {
     "name": "stderr",
     "output_type": "stream",
     "text": [
      "/opt/conda/lib/python3.7/site-packages/sklearn/svm/base.py:193: FutureWarning: The default value of gamma will change from 'auto' to 'scale' in version 0.22 to account better for unscaled features. Set gamma explicitly to 'auto' or 'scale' to avoid this warning.\n",
      "  \"avoid this warning.\", FutureWarning)\n"
     ]
    },
    {
     "name": "stdout",
     "output_type": "stream",
     "text": [
      "Accuracy:  0.11833333333333333\n",
      "\n",
      "Confusion Matrix:\n",
      " [[  0 296   0   0   0   0   0   0   0   0]\n",
      " [  0 355   0   0   0   0   0   0   0   0]\n",
      " [  0 312   0   0   0   0   0   0   0   0]\n",
      " [  0 301   0   0   0   0   0   0   0   0]\n",
      " [  0 280   0   0   0   0   0   0   0   0]\n",
      " [  0 270   0   0   0   0   0   0   0   0]\n",
      " [  0 289   0   0   0   0   0   0   0   0]\n",
      " [  0 296   0   0   0   0   0   0   0   0]\n",
      " [  0 312   0   0   0   0   0   0   0   0]\n",
      " [  0 289   0   0   0   0   0   0   0   0]]\n",
      "\n",
      "Classification Report:\n",
      "               precision    recall  f1-score   support\n",
      "\n",
      "           0       0.00      0.00      0.00       296\n",
      "           1       0.12      1.00      0.21       355\n",
      "           2       0.00      0.00      0.00       312\n",
      "           3       0.00      0.00      0.00       301\n",
      "           4       0.00      0.00      0.00       280\n",
      "           5       0.00      0.00      0.00       270\n",
      "           6       0.00      0.00      0.00       289\n",
      "           7       0.00      0.00      0.00       296\n",
      "           8       0.00      0.00      0.00       312\n",
      "           9       0.00      0.00      0.00       289\n",
      "\n",
      "    accuracy                           0.12      3000\n",
      "   macro avg       0.01      0.10      0.02      3000\n",
      "weighted avg       0.01      0.12      0.03      3000\n",
      "\n"
     ]
    },
    {
     "name": "stderr",
     "output_type": "stream",
     "text": [
      "/opt/conda/lib/python3.7/site-packages/sklearn/metrics/classification.py:1437: UndefinedMetricWarning: Precision and F-score are ill-defined and being set to 0.0 in labels with no predicted samples.\n",
      "  'precision', 'predicted', average, warn_for)\n"
     ]
    }
   ],
   "source": [
    "clf = SVC(kernel='rbf')\n",
    "clf.fit(train_x, train_y)\n",
    "predicted = clf.predict(test_x)\n",
    "\n",
    "print(\"Accuracy: \", accuracy_score(expected, predicted))\n",
    "print(\"\\nConfusion Matrix:\\n\",confusion_matrix(expected, predicted))\n",
    "print(\"\\nClassification Report:\\n\",classification_report(expected, predicted))"
   ]
  },
  {
   "cell_type": "markdown",
   "metadata": {},
   "source": [
    "## SVM - Sigmoid"
   ]
  },
  {
   "cell_type": "code",
   "execution_count": 10,
   "metadata": {},
   "outputs": [
    {
     "name": "stderr",
     "output_type": "stream",
     "text": [
      "/opt/conda/lib/python3.7/site-packages/sklearn/svm/base.py:193: FutureWarning: The default value of gamma will change from 'auto' to 'scale' in version 0.22 to account better for unscaled features. Set gamma explicitly to 'auto' or 'scale' to avoid this warning.\n",
      "  \"avoid this warning.\", FutureWarning)\n"
     ]
    },
    {
     "name": "stdout",
     "output_type": "stream",
     "text": [
      "Accuracy:  0.11833333333333333\n",
      "\n",
      "Confusion Matrix:\n",
      " [[  0 296   0   0   0   0   0   0   0   0]\n",
      " [  0 355   0   0   0   0   0   0   0   0]\n",
      " [  0 312   0   0   0   0   0   0   0   0]\n",
      " [  0 301   0   0   0   0   0   0   0   0]\n",
      " [  0 280   0   0   0   0   0   0   0   0]\n",
      " [  0 270   0   0   0   0   0   0   0   0]\n",
      " [  0 289   0   0   0   0   0   0   0   0]\n",
      " [  0 296   0   0   0   0   0   0   0   0]\n",
      " [  0 312   0   0   0   0   0   0   0   0]\n",
      " [  0 289   0   0   0   0   0   0   0   0]]\n",
      "\n",
      "Classification Report:\n",
      "               precision    recall  f1-score   support\n",
      "\n",
      "           0       0.00      0.00      0.00       296\n",
      "           1       0.12      1.00      0.21       355\n",
      "           2       0.00      0.00      0.00       312\n",
      "           3       0.00      0.00      0.00       301\n",
      "           4       0.00      0.00      0.00       280\n",
      "           5       0.00      0.00      0.00       270\n",
      "           6       0.00      0.00      0.00       289\n",
      "           7       0.00      0.00      0.00       296\n",
      "           8       0.00      0.00      0.00       312\n",
      "           9       0.00      0.00      0.00       289\n",
      "\n",
      "    accuracy                           0.12      3000\n",
      "   macro avg       0.01      0.10      0.02      3000\n",
      "weighted avg       0.01      0.12      0.03      3000\n",
      "\n"
     ]
    },
    {
     "name": "stderr",
     "output_type": "stream",
     "text": [
      "/opt/conda/lib/python3.7/site-packages/sklearn/metrics/classification.py:1437: UndefinedMetricWarning: Precision and F-score are ill-defined and being set to 0.0 in labels with no predicted samples.\n",
      "  'precision', 'predicted', average, warn_for)\n"
     ]
    }
   ],
   "source": [
    "clf = SVC(kernel='sigmoid')\n",
    "clf.fit(train_x, train_y)\n",
    "predicted = clf.predict(test_x)\n",
    "\n",
    "print(\"Accuracy: \", accuracy_score(expected, predicted))\n",
    "print(\"\\nConfusion Matrix:\\n\",confusion_matrix(expected, predicted))\n",
    "print(\"\\nClassification Report:\\n\",classification_report(expected, predicted))"
   ]
  }
 ],
 "metadata": {
  "kernelspec": {
   "display_name": "Python 3",
   "language": "python",
   "name": "python3"
  },
  "language_info": {
   "codemirror_mode": {
    "name": "ipython",
    "version": 3
   },
   "file_extension": ".py",
   "mimetype": "text/x-python",
   "name": "python",
   "nbconvert_exporter": "python",
   "pygments_lexer": "ipython3",
   "version": "3.7.3"
  }
 },
 "nbformat": 4,
 "nbformat_minor": 4
}
